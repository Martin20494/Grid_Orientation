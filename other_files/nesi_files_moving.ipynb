{
 "cells": [
  {
   "cell_type": "markdown",
   "id": "be98e021",
   "metadata": {},
   "source": [
    "# Moving files into a folder for using NESI - grid orientation"
   ]
  },
  {
   "cell_type": "markdown",
   "id": "616225e0",
   "metadata": {},
   "source": [
    "The code below is used to move files from all over the places into a folder to use NESI "
   ]
  },
  {
   "cell_type": "markdown",
   "id": "7fd32d28",
   "metadata": {},
   "source": [
    "-----------------------------------------------------------------------------------------------------------------"
   ]
  },
  {
   "cell_type": "code",
   "execution_count": null,
   "id": "84e64f74",
   "metadata": {},
   "outputs": [],
   "source": [
    "# References:\n",
    "# https://stackoverflow.com/questions/22078621/how-to-copy-files-fast"
   ]
  },
  {
   "cell_type": "code",
   "execution_count": 1,
   "id": "ac8f7dc2",
   "metadata": {},
   "outputs": [],
   "source": [
    "# Reference: https://stackoverflow.com/questions/15514593/importerror-no-module-named-when-trying-to-run-python-script/15622021#15622021\n",
    "import sys\n",
    "sys.path.append(r'S:\\\\Grid_Orientation_wse_004_changecalculation_machine17\\\\LISFLOOD_FP\\\\Modelling')"
   ]
  },
  {
   "cell_type": "code",
   "execution_count": 2,
   "id": "d163d16e",
   "metadata": {},
   "outputs": [],
   "source": [
    "# Import from what I wrote\n",
    "from randomisation import random_values_generation"
   ]
  },
  {
   "cell_type": "code",
   "execution_count": 3,
   "id": "c1e29e11",
   "metadata": {},
   "outputs": [],
   "source": [
    "# Import from built-in functions\n",
    "import pyfastcopy\n",
    "import shutil\n",
    "import pathlib\n",
    "\n",
    "import numpy as np"
   ]
  },
  {
   "cell_type": "code",
   "execution_count": 4,
   "id": "c79ec9c9",
   "metadata": {},
   "outputs": [],
   "source": [
    "# References:\n",
    "# https://stackoverflow.com/questions/22078621/how-to-copy-files-fast"
   ]
  },
  {
   "cell_type": "code",
   "execution_count": 5,
   "id": "c5d29db4",
   "metadata": {},
   "outputs": [],
   "source": [
    "def par_generation(\n",
    "    par_path,\n",
    "    save_path,\n",
    "    ordinal_number,\n",
    "    number_simulation\n",
    "):\n",
    "    \"\"\"\n",
    "    @Definition:\n",
    "                A function to generate PAR file\n",
    "    @References:\n",
    "                None.\n",
    "    @Arguments:\n",
    "                number_simulation (string):\n",
    "                                            A string to identify the order of simulation (should be angle, x, y)\n",
    "    @Returns:\n",
    "                None.\n",
    "    \"\"\"\n",
    "    # Get directories\n",
    "    # OUTPUT\n",
    "    flood_savelocaloutput = fr\"{save_path}/flood_outputs/transformed_{number_simulation}\"\n",
    "    pathlib.Path(flood_savelocaloutput).mkdir(parents=True, exist_ok=True)\n",
    "    flood_output = fr\"{par_path}/flood_outputs/transformed_{number_simulation}\"\n",
    "    # BDY\n",
    "    flood_bdy = fr\"{par_path}/param_{ordinal_number}/transformation.bdy\"\n",
    "    # BCI\n",
    "    flood_bci = fr\"{par_path}/param_{ordinal_number}/transformed_{number_simulation}.bci\"\n",
    "    # DEM\n",
    "    flood_dem = fr\"{par_path}/param_{ordinal_number}/generated_dem_transformed_{number_simulation}.asc\"\n",
    "    # MANNING'S N\n",
    "    flood_n = fr\"{par_path}/param_{ordinal_number}/generated_n_transformed_{number_simulation}.asc\"\n",
    "    # STARTDEPTH\n",
    "    flood_startdepth = fr\"{par_path}/param_{ordinal_number}/startdepth_{number_simulation}.asc\"\n",
    "\n",
    "    # Create parameters list\n",
    "    parameters_list = [\n",
    "        ('resroot', 'out'),\n",
    "        ('dirroot', flood_output),\n",
    "        ('saveint', 3600),\n",
    "        ('massint', 100),\n",
    "        ('sim_time', 172800),\n",
    "        ('initial_tstep', 2),\n",
    "        ('bcifile', flood_bci),\n",
    "        ('bdyfile', flood_bdy),\n",
    "        ('DEMFile', flood_dem),\n",
    "        ('manningfile', flood_n),\n",
    "        ('startfile', flood_startdepth)\n",
    "    ]\n",
    "\n",
    "    # Write into array\n",
    "    parameters_array = np.array(parameters_list)\n",
    "    \n",
    "    # Ceate path for storing par files **** This line of code is not included in pycharm codes\n",
    "    path_for_par = fr\"{save_path}\\param_{ordinal_number}\"\n",
    "    pathlib.Path(path_for_par).mkdir(parents=True, exist_ok=True)\n",
    "    \n",
    "    # Write PAR file\n",
    "    with open(\n",
    "        fr\"{path_for_par}\\par_{ordinal_number}.par\", \"w\"\n",
    "    ) as parameters:\n",
    "        for each_parameter in range(parameters_array.shape[0]):\n",
    "            data_parameter = parameters_array[each_parameter]\n",
    "            text_parameter = '{0[0]:<20}{0[1]}\\n'.format(data_parameter)\n",
    "            parameters.write(text_parameter)\n",
    "        parameters.write('acceleration\\ndrain_nodata\\n\\n')"
   ]
  },
  {
   "cell_type": "code",
   "execution_count": 6,
   "id": "7f4e4dbd",
   "metadata": {},
   "outputs": [],
   "source": [
    "def other_params(\n",
    "    get_path,\n",
    "    save_path,\n",
    "    ordinal_number,\n",
    "    number_simulation\n",
    "):\n",
    "    \n",
    "    # DEM\n",
    "    shutil.copy2(\n",
    "        fr\"{get_path}\\2_raster\\dem\\ascii\\generated_dem_transformed_{number_simulation}.asc\",\n",
    "        fr\"{save_path}\\param_{ordinal_number}\\generated_dem_transformed_{number_simulation}.asc\"\n",
    "    )\n",
    "    shutil.copy2(\n",
    "        fr\"{get_path}\\2_raster\\dem\\ascii\\generated_dem_transformed_{number_simulation}.asc.aux.xml\",\n",
    "        fr\"{save_path}\\param_{ordinal_number}\\generated_dem_transformed_{number_simulation}.asc.aux.xml\"\n",
    "    )\n",
    "    shutil.copy2(\n",
    "        fr\"{get_path}\\2_raster\\dem\\ascii\\generated_dem_transformed_{number_simulation}.prj\",\n",
    "        fr\"{save_path}\\param_{ordinal_number}\\generated_dem_transformed_{number_simulation}.prj\"\n",
    "    )\n",
    "    \n",
    "    # N\n",
    "    shutil.copy2(\n",
    "        fr\"{get_path}\\2_raster\\n\\ascii\\generated_n_transformed_{number_simulation}.asc\",\n",
    "        fr\"{save_path}\\param_{ordinal_number}\\generated_n_transformed_{number_simulation}.asc\"\n",
    "    )\n",
    "    shutil.copy2(\n",
    "        fr\"{get_path}\\2_raster\\n\\ascii\\generated_n_transformed_{number_simulation}.asc.aux.xml\",\n",
    "        fr\"{save_path}\\param_{ordinal_number}\\generated_n_transformed_{number_simulation}.asc.aux.xml\"\n",
    "    )\n",
    "    shutil.copy2(\n",
    "        fr\"{get_path}\\2_raster\\n\\ascii\\generated_n_transformed_{number_simulation}.prj\",\n",
    "        fr\"{save_path}\\param_{ordinal_number}\\generated_n_transformed_{number_simulation}.prj\"\n",
    "    )\n",
    "    \n",
    "    # STARTDEPTH\n",
    "    shutil.copy2(\n",
    "        fr\"{get_path}\\2_raster\\startdepth\\ascii\\startdepth_{number_simulation}.asc\",\n",
    "        fr\"{save_path}\\param_{ordinal_number}\\startdepth_{number_simulation}.asc\"\n",
    "    )\n",
    "    shutil.copy2(\n",
    "        fr\"{get_path}\\2_raster\\startdepth\\ascii\\startdepth_{number_simulation}.asc.aux.xml\",\n",
    "        fr\"{save_path}\\param_{ordinal_number}\\startdepth_{number_simulation}.asc.aux.xml\"\n",
    "    )\n",
    "    shutil.copy2(\n",
    "        fr\"{get_path}\\2_raster\\startdepth\\ascii\\startdepth_{number_simulation}.prj\",\n",
    "        fr\"{save_path}\\param_{ordinal_number}\\startdepth_{number_simulation}.prj\"\n",
    "    )\n",
    "    \n",
    "    # BDY\n",
    "    shutil.copy2(\n",
    "        fr\"{get_path}\\3_LISFLOOD_FP\\transformed_para\\transformation.bdy\",\n",
    "        fr\"{save_path}\\param_{ordinal_number}\\transformation.bdy\"\n",
    "    )\n",
    "    # BCI\n",
    "    shutil.copy2(\n",
    "        fr\"{get_path}\\3_LISFLOOD_FP\\transformed_para\\transformed_{number_simulation}\\transformed_{number_simulation}.bci\",\n",
    "        fr\"{save_path}\\param_{ordinal_number}\\transformed_{number_simulation}.bci\"\n",
    "    )"
   ]
  },
  {
   "cell_type": "code",
   "execution_count": 7,
   "id": "d011a8ce",
   "metadata": {},
   "outputs": [],
   "source": [
    "def nesi_files(\n",
    "    par_path, get_path, save_path,\n",
    "    sim_dict\n",
    "):\n",
    "    # \n",
    "    \n",
    "    for ordinal_number in range(1, 51, 1):\n",
    "        # Get number of simulations\n",
    "        angle_val = sim_dict[ordinal_number][0]\n",
    "        x_val = sim_dict[ordinal_number][1]\n",
    "        y_val = sim_dict[ordinal_number][2]\n",
    "        number_simulation = f\"angle_{angle_val}_x_{x_val}_y_{y_val}\"\n",
    "        \n",
    "        # Get pars\n",
    "        par_generation(par_path, save_path, ordinal_number, number_simulation)\n",
    "        \n",
    "        # Get other variables\n",
    "        other_params(get_path, save_path, ordinal_number, number_simulation)\n",
    "        "
   ]
  },
  {
   "cell_type": "code",
   "execution_count": 8,
   "id": "80b22944",
   "metadata": {},
   "outputs": [],
   "source": [
    "# Get files for nesi on local computer\n",
    "get_dir = r\"S:\\new_versions_005\\vers013\"\n",
    "\n",
    "# Save files for nesi on local computer\n",
    "save_dir = r\"S:\\NESI\\10m_gridorientation_1000yevent\"\n",
    "\n",
    "# Nesi path for each par files\n",
    "par_dir = r\"/nesi/nobackup/niwa03440/tmn52/10m_gridorientation_1000yevent\""
   ]
  },
  {
   "cell_type": "code",
   "execution_count": 9,
   "id": "8fdaf308",
   "metadata": {},
   "outputs": [],
   "source": [
    "resolution = 10\n",
    "ran_trans = random_values_generation(\n",
    "    1,\n",
    "    50,\n",
    "    [0, 90],\n",
    "    [0, resolution/2],\n",
    "    [0, resolution/2],\n",
    "    'uniform',\n",
    "    True\n",
    ")"
   ]
  },
  {
   "cell_type": "code",
   "execution_count": 11,
   "id": "143eb2e8",
   "metadata": {},
   "outputs": [],
   "source": [
    "# Create ordinal numbers dictionary for each ran_trans\n",
    "simulation_dict = {}\n",
    "for ordinal_num in range(1, 51, 1):\n",
    "    simulation_dict[ordinal_num] = ran_trans[ordinal_num-1]"
   ]
  },
  {
   "cell_type": "code",
   "execution_count": 13,
   "id": "6105a3aa",
   "metadata": {},
   "outputs": [
    {
     "name": "stdout",
     "output_type": "stream",
     "text": [
      "CPU times: total: 3.84 s\n",
      "Wall time: 53.3 s\n"
     ]
    }
   ],
   "source": [
    "%%time\n",
    "nesi_files(\n",
    "    par_dir, get_dir, save_dir,\n",
    "    simulation_dict\n",
    ")"
   ]
  },
  {
   "cell_type": "code",
   "execution_count": null,
   "id": "bdca5a82",
   "metadata": {},
   "outputs": [],
   "source": []
  }
 ],
 "metadata": {
  "kernelspec": {
   "display_name": "Python (geofabrics_002)",
   "language": "python",
   "name": "geofabrics_002"
  },
  "language_info": {
   "codemirror_mode": {
    "name": "ipython",
    "version": 3
   },
   "file_extension": ".py",
   "mimetype": "text/x-python",
   "name": "python",
   "nbconvert_exporter": "python",
   "pygments_lexer": "ipython3",
   "version": "3.9.15"
  }
 },
 "nbformat": 4,
 "nbformat_minor": 5
}
