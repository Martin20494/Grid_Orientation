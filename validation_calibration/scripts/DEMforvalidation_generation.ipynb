{
 "cells": [
  {
   "cell_type": "code",
   "execution_count": null,
   "id": "871f6d04",
   "metadata": {},
   "outputs": [],
   "source": [
    "# Packages\n",
    "import os\n",
    "import pathlib\n",
    "\n",
    "import json\n",
    "from geofabrics import processor\n",
    "import matplotlib.pyplot"
   ]
  },
  {
   "cell_type": "code",
   "execution_count": null,
   "id": "f617aad9",
   "metadata": {},
   "outputs": [],
   "source": [
    "# Change directory\n",
    "os.chdir(r\"S:\\Grid_Ori_bigdata\")\n",
    "\n",
    "# Necessary variables\n",
    "# direct the basepath to the folder\n",
    "# that contains two files\n",
    "# one is 'rec2_3.geojson'\n",
    "# other one is 'flow_and_friction.csv.gz'\n",
    "basepath = pathlib.Path(r\"S:\\Grid_Ori_bigdata\")\n",
    "result_folder = \"dem_generation\"\n",
    "instruction_file = basepath / result_folder / \"instructions.json\""
   ]
  },
  {
   "cell_type": "code",
   "execution_count": null,
   "id": "fcf7b913",
   "metadata": {},
   "outputs": [],
   "source": [
    "# Open json file\n",
    "with open(basepath / result_folder / \"instructions.json\", \"r\") as file_pointer:\n",
    "    instruction_json = json.load(file_pointer)"
   ]
  },
  {
   "cell_type": "code",
   "execution_count": null,
   "id": "4b64495a",
   "metadata": {},
   "outputs": [],
   "source": [
    "%%time\n",
    "# Generate DEM for validation\n",
    "runner = processor.RiverBathymetryGenerator(instruction_json['rivers'])\n",
    "runner.run()\n",
    "runner = processor.DrainBathymetryGenerator(instruction_json['drains'])\n",
    "runner.run()\n",
    "runner = processor.RawLidarDemGenerator(instruction_json['dem'])\n",
    "runner.run()\n",
    "runner = processor.HydrologicDemGenerator(instruction_json['dem'])\n",
    "runner.run()"
   ]
  }
 ],
 "metadata": {
  "kernelspec": {
   "display_name": "Python [conda env:geofabrics49]",
   "language": "python",
   "name": "conda-env-geofabrics49-py"
  },
  "language_info": {
   "codemirror_mode": {
    "name": "ipython",
    "version": 3
   },
   "file_extension": ".py",
   "mimetype": "text/x-python",
   "name": "python",
   "nbconvert_exporter": "python",
   "pygments_lexer": "ipython3",
   "version": "3.9.13"
  }
 },
 "nbformat": 4,
 "nbformat_minor": 5
}
