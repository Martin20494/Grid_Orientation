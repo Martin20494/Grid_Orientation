{
 "cells": [
  {
   "cell_type": "markdown",
   "id": "6f4906cf",
   "metadata": {},
   "source": [
    "#### 0. Change directory"
   ]
  },
  {
   "cell_type": "code",
   "execution_count": 1,
   "id": "71709f0d",
   "metadata": {},
   "outputs": [],
   "source": [
    "# Reference: https://stackoverflow.com/questions/15514593/importerror-no-module-named-when-trying-to-run-python-script/15622021#15622021\n",
    "# Here choosing the folder that stores all the modelling modules\n",
    "import sys\n",
    "sys.path.append(r'S:\\\\Grid_Orientation_code_006_machine_C002AU\\\\LISFLOOD_FP\\\\Modelling')"
   ]
  },
  {
   "cell_type": "markdown",
   "id": "8fa24cd8",
   "metadata": {},
   "source": [
    "#### 1. Packages"
   ]
  },
  {
   "cell_type": "code",
   "execution_count": 2,
   "id": "b8c03140",
   "metadata": {},
   "outputs": [],
   "source": [
    "from folder import *\n",
    "from randomisation import random_values_generation\n",
    "from dataPreparation import download_lidar, \\\n",
    "                            padding_combination, \\\n",
    "                            dem_raster_reference, \\\n",
    "                            terrain_shading             # For lidar downloading, padding calculation, dem reference generation, and terrain shading\n",
    "\n",
    "from transformation import center_calculation, get_url, get_tile_files, \\\n",
    "                           MyPool, transformation_performance, transformation_parallelism # For transformation using multiprocessing\n",
    "\n",
    "from rasterSimulation import raster_generation\n",
    "\n",
    "from floodModel import tide_flow_data, bdy_generation, tideboundary_points, flood_simulation\n",
    "\n",
    "# For creating plot\n",
    "import matplotlib.pyplot\n",
    "\n",
    "# For untransformation\n",
    "from untransformation import untransformation_parallelism\n",
    "\n",
    "import multiprocessing\n",
    "from functools import partial\n",
    "\n",
    "\n",
    "# For terrain shading\n",
    "import os\n",
    "import rioxarray as rxr\n",
    "import xarray as xr\n",
    "from osgeo import gdal"
   ]
  },
  {
   "cell_type": "markdown",
   "id": "3ed74c5c",
   "metadata": {},
   "source": [
    "#### 2. Necessary variables"
   ]
  },
  {
   "cell_type": "code",
   "execution_count": 3,
   "id": "7b0e7d68",
   "metadata": {},
   "outputs": [],
   "source": [
    "# # 20-m resolution\n",
    "# # Construct a list of boundary\n",
    "# resolution = 20\n",
    "# number_pixel_x = 16 * 21\n",
    "# number_pixel_y = 16 * 14\n",
    "\n",
    "# xmin = 1767790\n",
    "# ymin = 5471400"
   ]
  },
  {
   "cell_type": "code",
   "execution_count": 4,
   "id": "fc577f65",
   "metadata": {},
   "outputs": [],
   "source": [
    "# 10-m resolution\n",
    "# Construct a list of boundary\n",
    "resolution = 10\n",
    "number_pixel_x = 16 * 42\n",
    "number_pixel_y = 16 * 28\n",
    "\n",
    "xmin = 1767790\n",
    "ymin = 5471400"
   ]
  },
  {
   "cell_type": "code",
   "execution_count": 5,
   "id": "94d3dfb6",
   "metadata": {},
   "outputs": [],
   "source": [
    "# # 5-m resolution\n",
    "# # Construct a list of boundary\n",
    "# resolution = 5\n",
    "# number_pixel_x = 16 * 84\n",
    "# number_pixel_y = 16 * 56\n",
    "\n",
    "# xmin = 1767790\n",
    "# ymin = 5471400"
   ]
  },
  {
   "cell_type": "code",
   "execution_count": 6,
   "id": "88b761cf",
   "metadata": {},
   "outputs": [],
   "source": [
    "# # 2-m resolution\n",
    "# # Construct a list of boundary\n",
    "# resolution = 2\n",
    "# number_pixel_x = 16 * 210\n",
    "# number_pixel_y = 16 * 140\n",
    "\n",
    "# xmin = 1767790\n",
    "# ymin = 5471400"
   ]
  },
  {
   "cell_type": "markdown",
   "id": "4907f87a",
   "metadata": {},
   "source": [
    "##### 2.2. Other basic variables"
   ]
  },
  {
   "cell_type": "code",
   "execution_count": 7,
   "id": "706a0c54",
   "metadata": {},
   "outputs": [],
   "source": [
    "xmax = xmin + resolution * number_pixel_x\n",
    "ymax = ymin + resolution * number_pixel_y\n",
    "\n",
    "# Boundary for the area of interest\n",
    "boundary_1 = [xmin, ymin, xmax, ymax]\n",
    "\n",
    "# Padding boundary for DEMs (use this boundary to create padding)\n",
    "addition_2 = 16 * 3\n",
    "boundary_2 = padding_combination(boundary_1, addition_2)\n",
    "\n",
    "# Boundary for tiles (use this boundary to download LiDAR)\n",
    "addition_3 = 16 * 3\n",
    "boundary_3 = padding_combination(boundary_2, addition_3)"
   ]
  },
  {
   "cell_type": "code",
   "execution_count": 8,
   "id": "056153db",
   "metadata": {},
   "outputs": [],
   "source": [
    "# LiDAR dataset name\n",
    "lidar_name = \"Wellington_2013\"\n",
    "\n",
    "# # Chunks and processors information (for computer has 8 cores)\n",
    "# For 10-m resolution\n",
    "size_of_chunk = 100\n",
    "size_of_processor = 4\n",
    "# # For 20-m resolution\n",
    "# size_of_chunk = 50\n",
    "# size_of_processor = 2\n",
    "# # For 2-m resolution\n",
    "# size_of_chunk = 400\n",
    "# size_of_processor = 6\n",
    "# # For 5-m resolution\n",
    "# size_of_chunk = 200\n",
    "# size_of_processor = 6\n",
    "\n",
    "# Flow data\n",
    "# flow_path = r\"P:\\Martin_publication\\Grid_Orientation\\Flow_multiple_events\\\\flow_5yevent_001.csv\"\n",
    "# flow_path = r\"P:\\Martin_publication\\Grid_Orientation\\Flow_multiple_events\\\\flow_10yevent_001.csv\"\n",
    "# flow_path = r\"P:\\Martin_publication\\Grid_Orientation\\Flow_multiple_events\\\\flow_20yevent_001.csv\"\n",
    "# flow_path = r\"P:\\Martin_publication\\Grid_Orientation\\Flow_multiple_events\\\\flow_50yevent_001.csv\"\n",
    "flow_path = r\"P:\\Martin_publication\\Grid_Orientation\\Flow_multiple_events\\\\flow_1000yevent_001.csv\"\n",
    "# flow_path = r\"P:\\Martin_publication\\Grid_Orientation\\Flow_Tide\\\\flow.csv\"\n",
    "\n",
    "# Tide data\n",
    "tide_path = r\"P:\\\\Martin_publication\\\\Grid_Orientation\\\\Flow_Tide\\\\tide.csv\"\n",
    "\n",
    "# date start and end\n",
    "date_start = r\"2005-01-05 00:00:00\"\n",
    "date_end = r\"2005-01-07 00:00:00\"\n",
    "\n",
    "# Tide flow data\n",
    "tide_flow_data(tide_path, flow_path, date_start, date_end)\n",
    "\n",
    "# Extracting flowdepth rate (for flowdepth_extraction() function)\n",
    "flowdepth_rate = 0\n",
    "\n",
    "# Time to extract water (for water_extraction() function)\n",
    "extract_wd = \"out.max\"\n",
    "extract_wse = \"out.mxe\"\n",
    "extract_elev = \"elev\""
   ]
  },
  {
   "cell_type": "markdown",
   "id": "18dabc59",
   "metadata": {},
   "source": [
    "##### 2.3. Preparing flood model parameters"
   ]
  },
  {
   "cell_type": "code",
   "execution_count": 9,
   "id": "1d1a9013",
   "metadata": {},
   "outputs": [],
   "source": [
    "# Create tide_flow data\n",
    "tide_flow_data(tide_path, flow_path, date_start, date_end)\n",
    "\n",
    "# River points\n",
    "river_points = (1774477.413, 5471521.558)\n",
    "\n",
    "# Create BDY file\n",
    "domain_name = \"Waikanae\"\n",
    "bdy_generation(resolution, domain_name)\n",
    "\n",
    "# Create tide boundary\n",
    "tideboundary_points(boundary_1, False)"
   ]
  },
  {
   "cell_type": "markdown",
   "id": "5ba8c617",
   "metadata": {},
   "source": [
    "##### 2.4. Preparing some flood model inputs"
   ]
  },
  {
   "cell_type": "code",
   "execution_count": 10,
   "id": "a9ebc072",
   "metadata": {},
   "outputs": [],
   "source": [
    "# %%time\n",
    "# # Download LiDAR\n",
    "# download_lidar(boundary_3, lidar_name)\n",
    "\n",
    "# # Reference DEM without padding\n",
    "# dem_raster_reference(resolution, size_of_chunk, size_of_processor,\n",
    "#                      boundary_1, lidar_name, \"no_padding\")\n",
    "\n",
    "# # Reference DEM with padding\n",
    "# dem_raster_reference(resolution, size_of_chunk, size_of_processor,\n",
    "#                      boundary_2, lidar_name, \"padding\")\n",
    "\n",
    "# # DEM for hillshade/terrain shade\n",
    "# dem_raster_reference(2, 400, 6,\n",
    "#                      boundary_1, lidar_name, \"shading\")\n",
    "\n",
    "# # Terrain shading\n",
    "# terrain_shading(50, 355)\n",
    "\n",
    "# Calculate coordinates of center point\n",
    "center_point = center_calculation(True)\n",
    "center_x = center_point[0]                     # Extract x coordinate of center point\n",
    "center_y = center_point[1]                     # Extract y coordinate of center point\n",
    "\n",
    "# Get url list file\n",
    "url_list_file = get_url(lidar_name)\n",
    "tile_files = get_tile_files(lidar_name)"
   ]
  },
  {
   "cell_type": "markdown",
   "id": "eb099912",
   "metadata": {},
   "source": [
    "##### 2.5. Random transformations"
   ]
  },
  {
   "cell_type": "markdown",
   "id": "f0b9569d",
   "metadata": {},
   "source": [
    "##### 2.5.1. E translation (x)"
   ]
  },
  {
   "cell_type": "code",
   "execution_count": 11,
   "id": "0b583d52",
   "metadata": {},
   "outputs": [],
   "source": [
    "# # Transformation values\n",
    "# ran_trans = random_values_generation(\n",
    "#     1,\n",
    "#     50,\n",
    "#     [0, 0],\n",
    "#     [0, resolution/2],\n",
    "#     [0, 0],\n",
    "#     'uniform',\n",
    "#     True\n",
    "# )"
   ]
  },
  {
   "cell_type": "markdown",
   "id": "9dfb133d",
   "metadata": {},
   "source": [
    "##### 2.5.2. N translation (y)"
   ]
  },
  {
   "cell_type": "code",
   "execution_count": 12,
   "id": "03e9035c",
   "metadata": {},
   "outputs": [],
   "source": [
    "# # Transformation values\n",
    "# ran_trans = random_values_generation(\n",
    "#     1,\n",
    "#     50,\n",
    "#     [0, 0],\n",
    "#     [0, 0],\n",
    "#     [0, resolution/2],\n",
    "#     'uniform',\n",
    "#     True\n",
    "# )"
   ]
  },
  {
   "cell_type": "markdown",
   "id": "d791f67f",
   "metadata": {},
   "source": [
    "##### 2.5.3. N-E translation"
   ]
  },
  {
   "cell_type": "code",
   "execution_count": 13,
   "id": "12a17600",
   "metadata": {},
   "outputs": [],
   "source": [
    "# # Transformation values\n",
    "# ran_trans = random_values_generation(\n",
    "#     1,\n",
    "#     50,\n",
    "#     [0, 0],\n",
    "#     [0, resolution/2],\n",
    "#     [0, resolution/2],\n",
    "#     'uniform',\n",
    "#     True\n",
    "# )"
   ]
  },
  {
   "cell_type": "markdown",
   "id": "d4a0ae3d",
   "metadata": {},
   "source": [
    "##### 2.5.4. Rotation"
   ]
  },
  {
   "cell_type": "code",
   "execution_count": 14,
   "id": "2e683c05",
   "metadata": {},
   "outputs": [],
   "source": [
    "# # Transformation values\n",
    "# ran_trans = random_values_generation(\n",
    "#     1,\n",
    "#     50,\n",
    "#     [0, 90],\n",
    "#     [0, 0],\n",
    "#     [0, 0],\n",
    "#     'uniform',\n",
    "#     True\n",
    "# )"
   ]
  },
  {
   "cell_type": "code",
   "execution_count": 15,
   "id": "ef430599",
   "metadata": {},
   "outputs": [],
   "source": [
    "# # Transformation values\n",
    "# ran_trans = random_values_generation(\n",
    "#     1,\n",
    "#     1,\n",
    "#     [0, 0],\n",
    "#     [0, 0],\n",
    "#     [0, 0],\n",
    "#     'uniform',\n",
    "#     True\n",
    "# )"
   ]
  },
  {
   "cell_type": "code",
   "execution_count": 16,
   "id": "98997745",
   "metadata": {},
   "outputs": [],
   "source": [
    "# ran_trans"
   ]
  },
  {
   "cell_type": "markdown",
   "id": "6c062c6b",
   "metadata": {},
   "source": [
    "##### 2.5.5. N-E translation and rotation"
   ]
  },
  {
   "cell_type": "code",
   "execution_count": 17,
   "id": "636272c0",
   "metadata": {},
   "outputs": [],
   "source": [
    "# Transformation values\n",
    "ran_trans = random_values_generation(\n",
    "    1,\n",
    "    50,\n",
    "    [0, 90],\n",
    "    [0, resolution/2],\n",
    "    [0, resolution/2],\n",
    "    'uniform',\n",
    "    True\n",
    ")"
   ]
  },
  {
   "cell_type": "code",
   "execution_count": 18,
   "id": "b14ab196",
   "metadata": {},
   "outputs": [
    {
     "data": {
      "text/plain": [
       "array([[4.60639462e+01, 4.75231848e+00, 7.20798064e-01],\n",
       "       [8.53784502e+01, 1.55915726e+00, 2.11663224e+00],\n",
       "       [7.44932334e+01, 2.04599568e+00, 2.74796844e+00],\n",
       "       [2.48032019e+00, 3.76756554e+00, 2.69071657e+00],\n",
       "       [2.96758545e+01, 3.94214352e+00, 1.51597415e+00],\n",
       "       [4.08148101e+01, 6.70208486e-01, 2.01556493e+00],\n",
       "       [1.83109717e+01, 1.31156670e+00, 3.75182336e+00],\n",
       "       [2.52367882e+01, 2.42595487e+00, 4.90368600e+00],\n",
       "       [8.65491474e+01, 3.62394970e+00, 2.70613428e+00],\n",
       "       [2.49202084e+01, 8.03260044e-01, 4.84962707e+00],\n",
       "       [4.64461727e+01, 5.79328062e-01, 3.11744878e+00],\n",
       "       [6.99014803e+01, 3.06501651e+00, 4.58648852e+00],\n",
       "       [3.56335890e+00, 2.64294632e+00, 2.29667941e+00],\n",
       "       [5.61146212e+00, 3.20664085e+00, 4.26316419e+00],\n",
       "       [5.33646916e+01, 1.30048724e+00, 4.19940761e+00],\n",
       "       [4.58546293e+01, 2.55444442e+00, 3.76515104e+00],\n",
       "       [1.33129832e+01, 4.09813360e+00, 3.41643453e+00],\n",
       "       [7.08387247e+01, 9.58081295e-01, 4.01182081e+00],\n",
       "       [1.72191533e+01, 4.07763087e-01, 4.27613487e+00],\n",
       "       [7.75155147e+01, 4.38268548e+00, 2.35954860e+00],\n",
       "       [2.46643550e+01, 3.54591430e-02, 3.22860448e+00],\n",
       "       [6.47918445e+01, 4.17784608e+00, 1.40938914e+00],\n",
       "       [1.93696350e+01, 3.19665690e+00, 4.02527417e+00],\n",
       "       [8.67303786e+01, 7.52624152e-01, 2.41106194e+00],\n",
       "       [8.05244276e+01, 2.11358453e+00, 2.94751031e+00],\n",
       "       [2.20416097e+00, 3.36729944e+00, 4.59544310e+00],\n",
       "       [7.44142797e+01, 4.42760133e+00, 3.30177690e+00],\n",
       "       [2.20997041e+01, 3.84258499e+00, 1.05837371e+00],\n",
       "       [7.48147351e+01, 3.13589613e-01, 4.12743907e+00],\n",
       "       [1.48056540e+01, 1.87573498e+00, 1.58369083e+00],\n",
       "       [6.22203332e+01, 8.92859391e-01, 1.98128081e+00],\n",
       "       [5.24213560e-01, 1.31247356e+00, 2.10594407e+00],\n",
       "       [9.53291130e+00, 3.16579973e+00, 1.90212135e+00],\n",
       "       [6.52764544e+01, 3.26933006e+00, 2.15613374e+00],\n",
       "       [7.80588455e+01, 3.16067559e+00, 4.05137176e+00],\n",
       "       [3.07615252e+01, 2.71834645e+00, 9.81484426e-01],\n",
       "       [8.96527071e+01, 1.21607732e+00, 1.28433734e+00],\n",
       "       [6.58710652e+00, 1.28901559e+00, 3.81564266e+00],\n",
       "       [6.28104214e+01, 6.43366062e-01, 1.88119251e+00],\n",
       "       [3.78829255e+01, 3.32492123e+00, 2.27964482e+00],\n",
       "       [5.27866494e+01, 4.19842302e+00, 3.63236805e+00],\n",
       "       [3.28506537e+01, 2.24198155e+00, 1.83849785e+00],\n",
       "       [9.87611976e+00, 1.01620772e+00, 1.41903244e+00],\n",
       "       [2.82720506e+01, 1.56523929e+00, 2.88349858e+00],\n",
       "       [8.74520978e+01, 3.87332067e+00, 3.95566974e+00],\n",
       "       [6.83341650e+01, 2.98493865e+00, 4.58846129e+00],\n",
       "       [6.20667140e+01, 2.50178215e+00, 3.85419043e-01],\n",
       "       [4.39604304e+01, 1.06415498e+00, 6.63481488e-01],\n",
       "       [4.55458430e+01, 3.92542646e+00, 1.47503221e+00],\n",
       "       [6.91894584e+01, 2.62814762e+00, 7.45240117e-01]])"
      ]
     },
     "execution_count": 18,
     "metadata": {},
     "output_type": "execute_result"
    }
   ],
   "source": [
    "ran_trans"
   ]
  },
  {
   "cell_type": "markdown",
   "id": "ff92b77d",
   "metadata": {},
   "source": [
    "##### 2.6. Only for 2-m resolution (if not skip this part)"
   ]
  },
  {
   "cell_type": "code",
   "execution_count": 19,
   "id": "eda14b1a",
   "metadata": {},
   "outputs": [],
   "source": [
    "# # Transformation values\n",
    "# ran_trans = random_values_generation(\n",
    "#     1,\n",
    "#     70,\n",
    "#     [0, 90],\n",
    "#     [0, resolution/2],\n",
    "#     [0, resolution/2],\n",
    "#     'uniform',\n",
    "#     True\n",
    "# )"
   ]
  },
  {
   "cell_type": "code",
   "execution_count": 20,
   "id": "2bbd64e8",
   "metadata": {},
   "outputs": [],
   "source": [
    "# import numpy as np\n",
    "# ran_trans = np.delete(ran_trans, [3, 4, 12, 40, 41], 0)\n",
    "# ran_trans = ran_trans[:50]"
   ]
  },
  {
   "cell_type": "code",
   "execution_count": 21,
   "id": "eae24780",
   "metadata": {},
   "outputs": [],
   "source": [
    "# ran_trans"
   ]
  },
  {
   "cell_type": "markdown",
   "id": "369e5f41",
   "metadata": {},
   "source": [
    "#### 3. Execution"
   ]
  },
  {
   "cell_type": "code",
   "execution_count": 22,
   "id": "51a733bb",
   "metadata": {},
   "outputs": [],
   "source": [
    "# %%time\n",
    "# transformation_parallelism(\n",
    "#     center_x,\n",
    "#     center_y,\n",
    "#     lidar_name,\n",
    "#     tile_files,\n",
    "#     30,\n",
    "#     url_list_file,\n",
    "#     ran_trans,\n",
    "#     1\n",
    "# )"
   ]
  },
  {
   "cell_type": "code",
   "execution_count": 23,
   "id": "3299ddbf",
   "metadata": {},
   "outputs": [],
   "source": [
    "# %%time\n",
    "# # DEM CREATION\n",
    "# # List parameters\n",
    "# resolution_func = resolution\n",
    "# chunk_size_func = size_of_chunk\n",
    "# processor_func = size_of_processor\n",
    "# padding_func = boundary_2\n",
    "# lidar_dataset_name = lidar_name\n",
    "\n",
    "# # Design func\n",
    "# func = partial(\n",
    "#     raster_generation,\n",
    "#     resolution_func,\n",
    "#     chunk_size_func,\n",
    "#     processor_func,\n",
    "#     padding_func,\n",
    "#     lidar_dataset_name,\n",
    "#     center_x, center_y\n",
    "# )\n",
    "\n",
    "# # Design pool\n",
    "# pool = MyPool(1)\n",
    "# pool.map(func, [ran for ran in ran_trans])\n",
    "# pool.close()\n",
    "# pool.join()"
   ]
  },
  {
   "cell_type": "code",
   "execution_count": 24,
   "id": "51f87643",
   "metadata": {},
   "outputs": [],
   "source": [
    "# %%time\n",
    "# for ran_trans_i in ran_trans:\n",
    "#     flood_simulation(\n",
    "#         domain_name,\n",
    "#         river_points,\n",
    "#         center_x, center_y,\n",
    "#         fr\"S:\\\\new_versions\\\\data\",\n",
    "#         ran_trans_i\n",
    "#     )"
   ]
  },
  {
   "cell_type": "code",
   "execution_count": 25,
   "id": "c2d13ffb",
   "metadata": {},
   "outputs": [
    {
     "name": "stdout",
     "output_type": "stream",
     "text": [
      "CPU times: total: 62.5 ms\n",
      "Wall time: 5min 14s\n"
     ]
    }
   ],
   "source": [
    "%%time\n",
    "# Water depth\n",
    "untransformation_parallelism(\n",
    "    extract_wd,\n",
    "    ran_trans,\n",
    "    30\n",
    ")"
   ]
  },
  {
   "cell_type": "code",
   "execution_count": 26,
   "id": "869f0633",
   "metadata": {},
   "outputs": [
    {
     "name": "stdout",
     "output_type": "stream",
     "text": [
      "CPU times: total: 78.1 ms\n",
      "Wall time: 5min 21s\n"
     ]
    }
   ],
   "source": [
    "%%time\n",
    "# Water surface elevation\n",
    "untransformation_parallelism(\n",
    "    extract_wse,\n",
    "    ran_trans,\n",
    "    30\n",
    ")"
   ]
  },
  {
   "cell_type": "code",
   "execution_count": null,
   "id": "e701bd8f",
   "metadata": {},
   "outputs": [],
   "source": [
    "# %%time\n",
    "# # Elevation\n",
    "# untransformation_parallelism(\n",
    "#     extract_elev,\n",
    "#     ran_trans,\n",
    "#     1\n",
    "# )"
   ]
  },
  {
   "cell_type": "code",
   "execution_count": null,
   "id": "bdb2587e",
   "metadata": {},
   "outputs": [],
   "source": []
  }
 ],
 "metadata": {
  "kernelspec": {
   "display_name": "Python [conda env:geofabrics49]",
   "language": "python",
   "name": "conda-env-geofabrics49-py"
  },
  "language_info": {
   "codemirror_mode": {
    "name": "ipython",
    "version": 3
   },
   "file_extension": ".py",
   "mimetype": "text/x-python",
   "name": "python",
   "nbconvert_exporter": "python",
   "pygments_lexer": "ipython3",
   "version": "3.9.13"
  }
 },
 "nbformat": 4,
 "nbformat_minor": 5
}
