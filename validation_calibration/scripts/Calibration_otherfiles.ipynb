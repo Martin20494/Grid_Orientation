{
 "cells": [
  {
   "cell_type": "markdown",
   "id": "5d2fbec4",
   "metadata": {},
   "source": [
    "#### 1. Preparation"
   ]
  },
  {
   "cell_type": "code",
   "execution_count": null,
   "id": "fc5cdeca",
   "metadata": {},
   "outputs": [],
   "source": [
    "# This line of code is for accessing the virtual folder '\\\\file'\n",
    "# I mapped the path to my virtual folder as S:\\\n",
    "# Reference: https://stackoverflow.com/questions/15514593/importerror-no-module-named-when-trying-to-run-python-script/15622021#15622021\n",
    "import sys\n",
    "sys.path.append(r'S:\\Grid_Ori_bigdata')"
   ]
  },
  {
   "cell_type": "code",
   "execution_count": null,
   "id": "085b0c04",
   "metadata": {},
   "outputs": [],
   "source": [
    "# Packages\n",
    "import os\n",
    "import pathlib\n",
    "import datetime\n",
    "\n",
    "import numpy as np\n",
    "import pandas as pd\n",
    "\n",
    "import xarray as xr\n",
    "import rioxarray as rxr\n",
    "import rasterio as rio\n",
    "\n",
    "import geopandas as gpd\n",
    "from shapely.geometry import LineString, Point, MultiPoint\n",
    "\n",
    "import matplotlib.pyplot as plt\n",
    "import seaborn as sns"
   ]
  },
  {
   "cell_type": "code",
   "execution_count": null,
   "id": "01be04d0",
   "metadata": {},
   "outputs": [],
   "source": [
    "# Set up main directory\n",
    "main_dir = r\"S:\\Grid_Ori_bigdata\""
   ]
  },
  {
   "cell_type": "markdown",
   "id": "50df22f1",
   "metadata": {},
   "source": [
    "The work below is similar to 'validation_otherfiles' but without writing out files. I separate it here for easy following"
   ]
  },
  {
   "cell_type": "markdown",
   "id": "a7e34931",
   "metadata": {},
   "source": [
    "#### 2. Read DEM"
   ]
  },
  {
   "cell_type": "code",
   "execution_count": null,
   "id": "3edcde25",
   "metadata": {},
   "outputs": [],
   "source": [
    "# Using copied DEM from 'others' folder\n",
    "# Read DEM file\n",
    "dem_xr = xr.open_dataset(fr\"{main_dir}\\\\dem.nc\")\n",
    "\n",
    "# Assign crs\n",
    "dem_xr = dem_xr.rio.write_crs(\"epsg:2193\", inplace=True)\n",
    "\n",
    "# Crop by geometry domain\n",
    "dem_xr_domain = dem_xr.z"
   ]
  },
  {
   "cell_type": "markdown",
   "id": "4610e32e",
   "metadata": {},
   "source": [
    "#### 3. Roughness length to Manning's"
   ]
  },
  {
   "cell_type": "code",
   "execution_count": null,
   "id": "42c79031",
   "metadata": {},
   "outputs": [],
   "source": [
    "# Building up a function to convert roughness length (Z0) to Manning's n\n",
    "def zo_to_n(zo, H):\n",
    "    ''' This function is to convert roughness length (Z0) to Manning's n\n",
    "    Ref: https://doi.org/10.1080/15715124.2017.1411923\n",
    "    '''\n",
    "    return (0.41 * (H**(1/6)) * ((H/zo) - 1))/(np.sqrt(9.80665) * (1 + (H/zo) * (np.log(H/zo) - 1)))"
   ]
  },
  {
   "cell_type": "code",
   "execution_count": null,
   "id": "643c68c9",
   "metadata": {},
   "outputs": [],
   "source": [
    "# Load zo - roughness length raster file\n",
    "zo_xr = xr.open_dataset(fr\"{main_dir}\\\\zo.nc\")\n",
    "\n",
    "# Assign crs\n",
    "zo_xr = zo_xr.rio.write_crs(\"epsg:2193\", inplace=True)\n",
    "\n",
    "# Crop by geometry domain\n",
    "zo_xr_domain = zo_xr.zo\n",
    "\n",
    "# Choose H=1 to obtain n\n",
    "n_domain = zo_to_n(zo_xr_domain, 1)"
   ]
  },
  {
   "cell_type": "markdown",
   "id": "c1284762",
   "metadata": {},
   "source": [
    "#### 3. Tide flow"
   ]
  },
  {
   "cell_type": "code",
   "execution_count": null,
   "id": "c216865e",
   "metadata": {},
   "outputs": [],
   "source": [
    "## FLOW\n",
    "\n",
    "# New Zealand time is 12 hours ahead Universal Time Coordinated --> UTC(0) and NZST(+12)\n",
    "# So to convert back to UTC, the time needs to be converted back to New Zealand time\n",
    "# http://graphs.gw.govt.nz/?siteName=Waikanae%20River%20at%20Water%20Treatment%20Plant&dataSource=Flow\n",
    "flowJan2005 = pd.read_csv(fr\"{main_dir}\\\\flow.csv\", skiprows=[0], \n",
    "                          names=['DateChar', 'Flow', 'Quality'],\n",
    "                          header=None)\n",
    "\n",
    "# Get flow data\n",
    "flowJan2005 = pd.read_csv(fr\"{main_dir}\\\\flow.csv\", names=['DateChar', 'Flow', 'Quality'], skiprows=[0], header=None)\n",
    "flowJan2005 = flowJan2005[['DateChar', 'Flow']]\n",
    "\n",
    "# Convert time data\n",
    "flowJan2005['DateTime'] = pd.to_datetime(flowJan2005['DateChar'], format=\"%m/%d/%Y %H:%M:%S\", utc=False)\n",
    "flowJan2005['DateTime'] = flowJan2005['DateTime'].dt.tz_localize(None)"
   ]
  },
  {
   "cell_type": "code",
   "execution_count": null,
   "id": "97188af6",
   "metadata": {},
   "outputs": [],
   "source": [
    "# Get tide data\n",
    "tideJan2005 = pd.read_csv(fr\"{main_dir}\\\\tide.csv\",\n",
    "                          skiprows=np.arange(0, 9, 1),\n",
    "                          names=['DateChar', 'Level'],\n",
    "                          header=None)\n",
    "# Convert time data\n",
    "tideJan2005['DateTime'] = pd.to_datetime(tideJan2005['DateChar'], format=\"%Y-%m-%dT%H:%M:%SZ\", utc=False)\n",
    "tideJan2005['DateTime'] = tideJan2005['DateTime'].dt.tz_localize(None) # Romve timezone"
   ]
  },
  {
   "cell_type": "code",
   "execution_count": null,
   "id": "6240c98b",
   "metadata": {},
   "outputs": [],
   "source": [
    "# Convert level data\n",
    "tideJan2005['Level'] = tideJan2005['Level'] - 0.11\n",
    "\n",
    "# Convert timezone\n",
    "time_change = datetime.timedelta(hours=12)\n",
    "tideJan2005['DateTime'] = tideJan2005['DateTime'] + time_change\n",
    "\n",
    "# Align flow and tide data\n",
    "tide_flowJan2005 = pd.merge(tideJan2005, flowJan2005, how='outer', on='DateTime')[['DateTime', \"Flow\", \"Level\"]]\n",
    "tide_flowJan2005 = tide_flowJan2005.sort_values(by='DateTime').reset_index(drop=True)\n",
    "tide_flowJan2005['Level'] = tide_flowJan2005['Level'].interpolate(method='cubic')\n",
    "\n",
    "# Select/Filter time\n",
    "date_start = pd.to_datetime(\"2005-01-05 00:00:00\")\n",
    "date_end = pd.to_datetime(\"2005-01-07 00:00:00\")\n",
    "\n",
    "# Merge tide and flow\n",
    "tide_flowJan2005 = tide_flowJan2005.loc[(tide_flowJan2005.DateTime >= \"2005-01-05 00:00:00\")\n",
    "                                        & (tide_flowJan2005.DateTime <= \"2005-01-07 00:00:00\")]"
   ]
  },
  {
   "cell_type": "code",
   "execution_count": null,
   "id": "eb20b070",
   "metadata": {},
   "outputs": [],
   "source": [
    "# Plot\n",
    "fig, axes = plt.subplots(2, figsize=(20, 10))\n",
    "fig.tight_layout(pad=6.0)\n",
    "\n",
    "# Tide\n",
    "axes[0].plot(tide_flowJan2005.DateTime, tide_flowJan2005.Level, linewidth=2, color='deeppink')\n",
    "axes[0].set_xlabel('Time (mm-dd hh)', fontsize=12, labelpad=15)\n",
    "axes[0].set_ylabel('Tide level (m)', fontsize=15)\n",
    "\n",
    "# Flow\n",
    "axes[1].plot(tide_flowJan2005.DateTime, tide_flowJan2005.Flow, linewidth=2, color='deeppink')\n",
    "axes[1].set_xlabel('Time (mm-dd hh)', fontsize=12, labelpad=15)\n",
    "axes[1].set_ylabel(r'Flow discharge ($\\frac{m^{3}}{s}$)', fontsize=15)"
   ]
  },
  {
   "cell_type": "markdown",
   "id": "db8b4a13",
   "metadata": {},
   "source": [
    "#### 4. Startdepth"
   ]
  },
  {
   "cell_type": "code",
   "execution_count": null,
   "id": "5cea9546",
   "metadata": {},
   "outputs": [],
   "source": [
    "# Start file\n",
    "startdepth = dem_xr_domain\n",
    "startdepth = startdepth.where(startdepth.values <= tide_flowJan2005.Level.iloc[0], other=np.nan)\n",
    "startdepth = startdepth * -1"
   ]
  },
  {
   "cell_type": "markdown",
   "id": "b6ecc547",
   "metadata": {},
   "source": [
    "#### 5. Sea"
   ]
  },
  {
   "cell_type": "code",
   "execution_count": null,
   "id": "dbacb138",
   "metadata": {},
   "outputs": [],
   "source": [
    "dem_xr_domain_copy = dem_xr_domain.copy(deep=True)\n",
    "n_domain_copy = n_domain.copy(deep=True)\n",
    "startdepth_copy = startdepth.copy(deep=True)"
   ]
  },
  {
   "cell_type": "code",
   "execution_count": null,
   "id": "3dc142d0",
   "metadata": {},
   "outputs": [],
   "source": [
    "# Sea\n",
    "seaarea = dem_xr_domain_copy * np.nan\n",
    "seaarea = seaarea.where(dem_xr_domain_copy.values >= (np.min(tide_flowJan2005.Level)-3), other=1)\n",
    "\n",
    "# Remove sea area\n",
    "dem_xr_domain_copy = dem_xr_domain_copy.where(seaarea.values != 1, other=np.nan) # cropped DEM\n",
    "n_domain_copy = n_domain_copy.where(seaarea.values != 1, other=np.nan) # Manning's n\n",
    "startdepth_copy = startdepth.where(seaarea.values != 1, other=np.nan)"
   ]
  },
  {
   "cell_type": "markdown",
   "id": "e564e447",
   "metadata": {},
   "source": [
    "#### 6. Calibration"
   ]
  },
  {
   "cell_type": "code",
   "execution_count": null,
   "id": "60bc7fae",
   "metadata": {},
   "outputs": [],
   "source": [
    "# Create Maning's n files\n",
    "n_domain_calibration = n_domain.copy(deep=True)\n",
    "n_domain_calibration = n_domain_calibration.where(seaarea.values != 1, other=np.nan)\n",
    "\n",
    "# Get range\n",
    "n_calibration_range = np.round(np.arange(0.5, 2.6, 0.1), 1)\n",
    "\n",
    "# Create different Manning's n files\n",
    "for i in n_calibration_range:\n",
    "    # Get new values\n",
    "    n_domain_calibration_value = n_domain_calibration * i\n",
    "    \n",
    "    # Write roughness\n",
    "    n_domain_calibration_value = n_domain_calibration_value.rio.write_nodata(-9999, inplace=True)\n",
    "    n_domain_calibration_value.rio.to_raster(fr\"{main_dir}\\\\n_{i}.nc\")\n",
    "    n_domain_calibration_value = rxr.open_rasterio(fr\"{main_dir}\\\\n_{i}.nc\")\n",
    "    n_domain_calibration_value.rio.to_raster(fr\"{main_dir}\\\\n_{i}.asc\")"
   ]
  },
  {
   "cell_type": "code",
   "execution_count": null,
   "id": "2e43106c",
   "metadata": {},
   "outputs": [],
   "source": [
    "# Create calibration folders\n",
    "for i in n_calibration_range:\n",
    "    pathlib.Path(fr\"{main_dir}\\\\n_{i}\").mkdir(parents=True, exist_ok=True)"
   ]
  },
  {
   "cell_type": "code",
   "execution_count": null,
   "id": "e311aed2",
   "metadata": {},
   "outputs": [],
   "source": [
    "# NOTICE: files 'waikanae.bci' and 'waikanae.bdy' were copied from 'others' folder\n",
    "# So here I did not recreated them\n",
    "# Without rain\n",
    "parameters_list = [np.array([\n",
    "    ('resroot', 'out'),\n",
    "    ('dirroot', f'n_{i}'),\n",
    "    ('saveint', 3600),\n",
    "    ('massint', 100),\n",
    "    ('sim_time', 172800),\n",
    "    ('initial_tstep', 2),\n",
    "    ('bcifile', 'waikanae.bci'),\n",
    "    ('bdyfile', 'waikanae.bdy'),\n",
    "    ('DEMFile', 'dem.asc'),\n",
    "    ('manningfile', f'n_{i}.asc'),\n",
    "    ('startfile', 'startdepth.asc')]) for i in n_calibration_range\n",
    "]\n",
    "\n",
    "# Write into text file par format\n",
    "for i in range(len(n_calibration_range)):\n",
    "    with open(fr\"{main_dir}\\\\n_{n_calibration_range[i]}.par\", 'w') as parameters:\n",
    "        for each_parameter in range(parameters_list[i].shape[0]):\n",
    "            data_parameter = parameters_list[i][each_parameter]\n",
    "            text_parameter = '{0[0]:<20}{0[1]}\\n'.format(data_parameter)\n",
    "            parameters.write(text_parameter)\n",
    "        parameters.write('acceleration\\ndrain_nodata\\n\\n')"
   ]
  },
  {
   "cell_type": "code",
   "execution_count": null,
   "id": "b529cc1a",
   "metadata": {},
   "outputs": [],
   "source": [
    "# Bat file\n",
    "with open(fr\"{main_dir}\\\\n_calibration_test.bat\", 'w') as execution:\n",
    "    execution.write(fr'cd {main_dir}')\n",
    "    for i in n_calibration_range:\n",
    "        each_n = f\"\\nlisflood_v8_1_0.exe -v n_{i}.par\\ntimeout /t 5\"\n",
    "        execution.write(each_n)"
   ]
  },
  {
   "cell_type": "code",
   "execution_count": null,
   "id": "c1f8e4cb",
   "metadata": {},
   "outputs": [],
   "source": []
  }
 ],
 "metadata": {
  "kernelspec": {
   "display_name": "Python [conda env:geofabrics49]",
   "language": "python",
   "name": "conda-env-geofabrics49-py"
  },
  "language_info": {
   "codemirror_mode": {
    "name": "ipython",
    "version": 3
   },
   "file_extension": ".py",
   "mimetype": "text/x-python",
   "name": "python",
   "nbconvert_exporter": "python",
   "pygments_lexer": "ipython3",
   "version": "3.9.13"
  }
 },
 "nbformat": 4,
 "nbformat_minor": 5
}
