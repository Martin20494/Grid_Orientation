{
 "cells": [
  {
   "cell_type": "markdown",
   "id": "1b028c09",
   "metadata": {},
   "source": [
    "#### 1. Preparation"
   ]
  },
  {
   "cell_type": "code",
   "execution_count": null,
   "id": "1c5df74b",
   "metadata": {},
   "outputs": [],
   "source": [
    "#\n",
    "import os\n",
    "import pathlib\n",
    "\n",
    "import numpy as np\n",
    "import pandas as pd\n",
    "\n",
    "import xarray as xr\n",
    "import rioxarray as rxr\n",
    "import rasterio as rio\n",
    "\n",
    "import geopandas as gpd\n",
    "from shapely.geometry import LineString, Point, MultiPoint, box\n",
    "\n",
    "import matplotlib.pyplot as plt\n",
    "import seaborn as sns\n",
    "\n",
    "import netCDF4"
   ]
  },
  {
   "cell_type": "code",
   "execution_count": null,
   "id": "d9b8d76c",
   "metadata": {},
   "outputs": [],
   "source": [
    "# Get new path\n",
    "# Create a path to the folder\n",
    "# that contains file \"VCSN_waikanae_200501_disaggdaily_500m_nztm_masked_sec.nc\"\n",
    "main_dir = r\"S:\\Grid_Ori_bigdata\""
   ]
  },
  {
   "cell_type": "markdown",
   "id": "3b062d47",
   "metadata": {},
   "source": [
    "#### 2. Process data"
   ]
  },
  {
   "cell_type": "code",
   "execution_count": null,
   "id": "c67da08c",
   "metadata": {},
   "outputs": [],
   "source": [
    "# Get data\n",
    "# Get new x and new y\n",
    "rainfall_cyp_xr = xr.open_dataset(fr\"{main_dir}\\VCSN_waikanae_200501_disaggdaily_500m_nztm_masked_sec.nc\")\n",
    "\n",
    "# Change variable name\n",
    "rainfall_cyp_xr['rainfall_depth'] = rainfall_cyp_xr['depth']\n",
    "rainfall_cyp_xr = rainfall_cyp_xr.drop('depth')\n",
    "\n",
    "# Assign CRS\n",
    "rainfall_cyp_xr.rio.write_crs('epsg:2193', inplace=True)"
   ]
  },
  {
   "cell_type": "code",
   "execution_count": null,
   "id": "31ca6295",
   "metadata": {},
   "outputs": [],
   "source": [
    "# Clip data\n",
    "geometry_domain_clip = [\n",
    "    {\n",
    "        'type': 'Polygon',\n",
    "        'coordinates': [[\n",
    "            [1767790 - 1150, 5471400 - 1150],\n",
    "            [1767790 - 1150, 5475880 + 1150],\n",
    "            [1774510 + 1150, 5475880 + 1150],\n",
    "            [1774510 + 1150, 5471400 + 1150],\n",
    "            [1767790 - 1150, 5471400 - 1150]\n",
    "        ]]\n",
    "    }\n",
    "]"
   ]
  },
  {
   "cell_type": "code",
   "execution_count": null,
   "id": "04f02a6f",
   "metadata": {},
   "outputs": [],
   "source": [
    "rainfall_clip_first = rainfall_cyp_xr.rio.clip(geometry_domain_clip)"
   ]
  },
  {
   "cell_type": "markdown",
   "id": "216a3e92",
   "metadata": {},
   "source": [
    "#### 3. Interpolation"
   ]
  },
  {
   "cell_type": "code",
   "execution_count": null,
   "id": "9d612054",
   "metadata": {},
   "outputs": [],
   "source": [
    "# Check boundaries\n",
    "ori_rain_bound = rainfall_clip_first.rio.bounds()\n",
    "ori_rain_bound"
   ]
  },
  {
   "cell_type": "code",
   "execution_count": null,
   "id": "1cd721e6",
   "metadata": {},
   "outputs": [],
   "source": [
    "%%time\n",
    "# Get new x and new y\n",
    "new_x = np.arange(ori_rain_bound[0]+2.5, ori_rain_bound[2], step=5)\n",
    "new_y = np.arange(ori_rain_bound[1]+2.5, ori_rain_bound[3], step=5)\n",
    "\n",
    "# Get interpolation\n",
    "rainfall_interpolation = rainfall_cyp_xr.interp(x=new_x, y=new_y, method='nearest')\n",
    "rainfall_interpolation.rio.write_crs('epsg:2193', inplace=True)\n",
    "rainfall_interpolation.to_netcdf(fr\"{main_dir}\\rainfall_interpolation_nearest.nc\", format=\"NETCDF4\", engine=\"netcdf4\")"
   ]
  }
 ],
 "metadata": {
  "kernelspec": {
   "display_name": "Python [conda env:geofabrics49]",
   "language": "python",
   "name": "conda-env-geofabrics49-py"
  },
  "language_info": {
   "codemirror_mode": {
    "name": "ipython",
    "version": 3
   },
   "file_extension": ".py",
   "mimetype": "text/x-python",
   "name": "python",
   "nbconvert_exporter": "python",
   "pygments_lexer": "ipython3",
   "version": "3.9.13"
  }
 },
 "nbformat": 4,
 "nbformat_minor": 5
}
