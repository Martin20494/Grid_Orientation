{
 "cells": [
  {
   "cell_type": "code",
   "execution_count": 1,
   "id": "c3e7b7ae",
   "metadata": {},
   "outputs": [],
   "source": [
    "# Reference: https://stackoverflow.com/questions/15514593/importerror-no-module-named-when-trying-to-run-python-script/15622021#15622021\n",
    "import sys\n",
    "sys.path.append(r'G:\\Grid_Orientation\\LISFLOOD_FP\\Analysis\\Modules')"
   ]
  },
  {
   "cell_type": "code",
   "execution_count": 2,
   "id": "345b51b0",
   "metadata": {},
   "outputs": [],
   "source": [
    "from savePlot import get_figure_folder                             # For saving graphs into LaTex folder"
   ]
  },
  {
   "cell_type": "markdown",
   "id": "b2290fb2",
   "metadata": {},
   "source": [
    "-------------------------------------------------------------------------------------------------------------------------------"
   ]
  },
  {
   "cell_type": "code",
   "execution_count": 3,
   "id": "1f9e5d96",
   "metadata": {},
   "outputs": [],
   "source": [
    "version_list1 = ['version_21', 'version_26', 'version_12', 'version_27']\n",
    "version_list2 = ['version_12', 'version_17', 'version_7', 'version_8', 'version_9']"
   ]
  },
  {
   "cell_type": "code",
   "execution_count": 4,
   "id": "b7578938",
   "metadata": {},
   "outputs": [],
   "source": [
    "get_figure_folder(\n",
    "    'comparison')"
   ]
  },
  {
   "cell_type": "code",
   "execution_count": 5,
   "id": "1e4e5cf9",
   "metadata": {},
   "outputs": [],
   "source": [
    "for version in version_list1:\n",
    "    get_figure_folder(\n",
    "        'no comparison',\n",
    "        'resolution',\n",
    "        version)"
   ]
  },
  {
   "cell_type": "code",
   "execution_count": 6,
   "id": "d2e78a40",
   "metadata": {},
   "outputs": [],
   "source": [
    "for version in version_list1:\n",
    "    get_figure_folder(\n",
    "        'no comparison',\n",
    "        'resolution',\n",
    "        version,\n",
    "        ' histogram')"
   ]
  },
  {
   "cell_type": "code",
   "execution_count": 7,
   "id": "89a1c1a7",
   "metadata": {},
   "outputs": [],
   "source": [
    "for version in version_list2:\n",
    "    get_figure_folder(\n",
    "        'no comparison',\n",
    "        'transformation',\n",
    "        version)"
   ]
  },
  {
   "cell_type": "code",
   "execution_count": 8,
   "id": "39ff8898",
   "metadata": {},
   "outputs": [],
   "source": [
    "for version in version_list2:\n",
    "    get_figure_folder(\n",
    "        'no comparison',\n",
    "        'transformation',\n",
    "        version,\n",
    "        ' histogram')"
   ]
  },
  {
   "cell_type": "code",
   "execution_count": null,
   "id": "9f355c83",
   "metadata": {},
   "outputs": [],
   "source": []
  }
 ],
 "metadata": {
  "kernelspec": {
   "display_name": "Python [conda env:geofabrics40]",
   "language": "python",
   "name": "conda-env-geofabrics40-py"
  },
  "language_info": {
   "codemirror_mode": {
    "name": "ipython",
    "version": 3
   },
   "file_extension": ".py",
   "mimetype": "text/x-python",
   "name": "python",
   "nbconvert_exporter": "python",
   "pygments_lexer": "ipython3",
   "version": "3.9.7"
  }
 },
 "nbformat": 4,
 "nbformat_minor": 5
}
