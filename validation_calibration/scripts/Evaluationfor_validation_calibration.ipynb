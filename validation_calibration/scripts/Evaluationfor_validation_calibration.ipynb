{
 "cells": [
  {
   "cell_type": "markdown",
   "id": "18667eb2",
   "metadata": {},
   "source": [
    "## PREPARATION"
   ]
  },
  {
   "cell_type": "code",
   "execution_count": null,
   "id": "aedceec7",
   "metadata": {},
   "outputs": [],
   "source": [
    "# Reference: https://stackoverflow.com/questions/15514593/importerror-no-module-named-when-trying-to-run-python-script/15622021#15622021\n",
    "import sys\n",
    "sys.path.append(r'S:\\Grid_Ori_bigdata')"
   ]
  },
  {
   "cell_type": "code",
   "execution_count": null,
   "id": "f1608005",
   "metadata": {},
   "outputs": [],
   "source": [
    "import os\n",
    "\n",
    "import numpy as np\n",
    "import pandas as pd\n",
    "\n",
    "import rasterio as rio\n",
    "import xarray as xr\n",
    "import rioxarray as rxr\n",
    "\n",
    "import geopandas as gpd\n",
    "\n",
    "from rasterio.features import shapes\n",
    "\n",
    "from sklearn.metrics import mean_squared_error\n",
    "\n",
    "import seaborn as sns\n",
    "sns.set_style(\"whitegrid\", {'axes.grid' : False})\n",
    "sns.set_style(\"ticks\") # Ref: https://seaborn.pydata.org/tutorial/aesthetics.html\n",
    "\n",
    "import matplotlib.pyplot as plt\n",
    "import matplotlib.gridspec as gridspec # For creating grid spec"
   ]
  },
  {
   "cell_type": "code",
   "execution_count": null,
   "id": "90a32fb2",
   "metadata": {},
   "outputs": [],
   "source": [
    "main_dir = r\"S:\\Grid_Ori_bigdata\""
   ]
  },
  {
   "cell_type": "markdown",
   "id": "6a199382",
   "metadata": {},
   "source": [
    "---------------------------------------------------------------------------"
   ]
  },
  {
   "cell_type": "markdown",
   "id": "f45cc540",
   "metadata": {},
   "source": [
    "## VALIDATION"
   ]
  },
  {
   "cell_type": "markdown",
   "id": "0ac9776b",
   "metadata": {},
   "source": [
    "#### 1. Get functions"
   ]
  },
  {
   "cell_type": "code",
   "execution_count": null,
   "id": "d076dcab",
   "metadata": {},
   "outputs": [],
   "source": [
    "# Ref: https://gis.stackexchange.com/questions/317391/python-extract-raster-values-at-point-locations\n",
    "def point_raster_join(pts_df, path):\n",
    "    '''A function is to get values from raster at the points'''\n",
    "    coords = [(x, y) for x, y in zip(pts_df.x, pts_df.y)]\n",
    "    mx_depth = rio.open(path)\n",
    "    pts_list = [x[0] for x in mx_depth.sample(coords)]\n",
    "    return pts_list"
   ]
  },
  {
   "cell_type": "code",
   "execution_count": null,
   "id": "ed75e879",
   "metadata": {},
   "outputs": [],
   "source": [
    "def get_dict(value_name, iterative_range, filename, observed_df):\n",
    "    '''A function is to get values from multiple rasters at the points'''\n",
    "    calibration_dict = {}\n",
    "    # Looping to get data\n",
    "    for i in range(len(iterative_range)):\n",
    "        # Get dataframe\n",
    "        path = fr\"{main_dir}\\\\n_{n_calibration[i]}\\\\{filename}\"\n",
    "        calibration_df = observed_df.copy(deep=True)\n",
    "        calibration_df[f'{value_name}'] = point_raster_join(calibration_df, path)\n",
    "        calibration_df[f'{value_name}'] = calibration_df[f'{value_name}'].replace(-9999, np.nan)\n",
    "        calibration_dict[f\"n_{n_calibration[i]}\"] = calibration_df[['level', f\"{value_name}\"]]\n",
    "    return calibration_dict"
   ]
  },
  {
   "cell_type": "markdown",
   "id": "52d531bf",
   "metadata": {},
   "source": [
    "#### 2. Get observed data"
   ]
  },
  {
   "cell_type": "code",
   "execution_count": null,
   "id": "311bfd80",
   "metadata": {},
   "outputs": [],
   "source": [
    "# Get observed data\n",
    "obs_data_df = gpd.read_file(fr\"{main_dir}\\2005b_Flood.shp\")\n",
    "# Choose geometry and level\n",
    "debris_df = obs_data_df[['geometry', 'X', 'Y', 'level_']]\n",
    "# Rename\n",
    "debris_df.rename(columns={'X':'x', 'Y':'y', 'level_':'level'}, inplace=True)\n",
    "# Copy the dataframe and call it validation dataframe\n",
    "validation_df = debris_df.copy(deep=True)"
   ]
  },
  {
   "cell_type": "code",
   "execution_count": null,
   "id": "4fee5663",
   "metadata": {},
   "outputs": [],
   "source": [
    "%%time\n",
    "# Get level from model results\n",
    "validation_df['mxe'] = point_raster_join(debris_df, fr\"{main_dir}\\test_nearest\\out.mxe\")"
   ]
  },
  {
   "cell_type": "markdown",
   "id": "795c8a15",
   "metadata": {},
   "source": [
    "#### 3. Calculate errors"
   ]
  },
  {
   "cell_type": "code",
   "execution_count": null,
   "id": "d8c506b6",
   "metadata": {},
   "outputs": [],
   "source": [
    "# Calculate the error\n",
    "validation_df_copy = validation_df.copy(deep=True)\n",
    "validation_df_copy['error'] = validation_df['mxe'] - validation_df_copy['level']"
   ]
  },
  {
   "cell_type": "code",
   "execution_count": null,
   "id": "9da6713e",
   "metadata": {},
   "outputs": [],
   "source": [
    "# Get avarge error and avarage absolute error\n",
    "print(validation_df_copy['error'].mean())\n",
    "print(validation_df_copy['error'].abs().mean())"
   ]
  },
  {
   "cell_type": "markdown",
   "id": "c12d41b5",
   "metadata": {},
   "source": [
    "#### 4. Get plot"
   ]
  },
  {
   "cell_type": "code",
   "execution_count": null,
   "id": "09f978de",
   "metadata": {},
   "outputs": [],
   "source": [
    "# Validate with mxe and rmse\n",
    "validation_mxe_mse = mean_squared_error(validation_df.level, validation_df.mxe, squared=True)\n",
    "validation_mxe_rmse = mean_squared_error(validation_df.level, validation_df.mxe, squared=False)"
   ]
  },
  {
   "cell_type": "code",
   "execution_count": null,
   "id": "b4a5cdda",
   "metadata": {},
   "outputs": [],
   "source": [
    "# Plot\n",
    "fig, ax = plt.subplots(figsize=(7, 7))\n",
    "\n",
    "# Size for title and label\n",
    "fontsize = 14\n",
    "labelpad = 21\n",
    "\n",
    "# Plot\n",
    "sns.regplot(x='level', y='mxe', data=validation_df,\n",
    "            scatter_kws={\"s\": 50, 'edgecolor': 'black', 'color':'deeppink', 'linewidth':.7},\n",
    "            line_kws={'color':'darkred', 'linewidth':1.5}, marker='o', ci=95, ax=ax)\n",
    "\n",
    "# Adjust x and y labels\n",
    "ax.set_xlabel(\"Observed data - Level (m)\", fontsize=fontsize, labelpad=labelpad)\n",
    "ax.set_ylabel(\"Predicted data -\\nmaximum water surface elevation (m)\", rotation=-270, fontsize=fontsize, labelpad=labelpad+5)\n",
    "\n",
    "# Set up ticks\n",
    "ax.set_yticks(np.arange(2.5, 21, 2.5))\n",
    "\n",
    "# For frame\n",
    "for spine in ax.spines.values():\n",
    "    spine.set_edgecolor('black')\n",
    "    \n",
    "# Set up ticks\n",
    "for item in (ax.get_xticklabels() + ax.get_yticklabels()):  # For x, y ticks' labels\n",
    "    item.set_fontsize(fontsize-3)\n",
    "ax.tick_params(direction='out', length=5, pad=labelpad-17)\n",
    "    \n",
    "\n",
    "title_error = \"MSE:\\n\\nRMSE:\"\n",
    "error = f\"{validation_mxe_mse:.3f}\\n\\n{validation_mxe_rmse:.3f}\"\n",
    "\n",
    "# Error added into the text\n",
    "# Ref: https://github.com/matplotlib/matplotlib/issues/253/\n",
    "#      https://stackoverflow.com/questions/67366092/valueerror-alignment-not-allowed-in-string-format-specifier-sometimes-not\n",
    "#      https://stackoverflow.com/questions/8234445/format-output-string-right-alignment\n",
    "ax.text(\n",
    "    .1, .8, # Control the text on the x axis and y axis\n",
    "    title_error,\n",
    "    size=fontsize-2, ha='left', color='black', transform=ax.transAxes\n",
    ")\n",
    "ax.text(\n",
    "    .22, .8, # Control the text on the x axis and y axis\n",
    "    error,\n",
    "    size=fontsize-2, ha='left', color='black', transform=ax.transAxes\n",
    ")\n",
    "\n",
    "plt.savefig(fr\"{main_dir}\\validation_result.png\", bbox_inches='tight', dpi=330)"
   ]
  },
  {
   "cell_type": "markdown",
   "id": "3aca82a7",
   "metadata": {},
   "source": [
    "---------------------------------------------------------------------"
   ]
  },
  {
   "cell_type": "markdown",
   "id": "392cbb56",
   "metadata": {},
   "source": [
    "## CALIBRATION"
   ]
  },
  {
   "cell_type": "markdown",
   "id": "cb334943",
   "metadata": {},
   "source": [
    "#### 1. Get data"
   ]
  },
  {
   "cell_type": "code",
   "execution_count": null,
   "id": "bc358b75",
   "metadata": {},
   "outputs": [],
   "source": [
    "# Get range of calibration\n",
    "n_calibration = np.round(np.arange(0.5, 2.6, 0.1), 1)"
   ]
  },
  {
   "cell_type": "code",
   "execution_count": null,
   "id": "ab6c724d",
   "metadata": {},
   "outputs": [],
   "source": [
    "%%time\n",
    "# Get dictionary of calibration results\n",
    "n_dict = get_dict('mxe', n_calibration, 'out.mxe', debris_df)"
   ]
  },
  {
   "cell_type": "markdown",
   "id": "cd6ac627",
   "metadata": {},
   "source": [
    "#### 2. Counting NaNs"
   ]
  },
  {
   "cell_type": "code",
   "execution_count": null,
   "id": "4cfca202",
   "metadata": {},
   "outputs": [],
   "source": [
    "# Copy dictionary\n",
    "import copy\n",
    "n_dict_copy_001 = copy.deepcopy(n_dict)"
   ]
  },
  {
   "cell_type": "code",
   "execution_count": null,
   "id": "0197756a",
   "metadata": {},
   "outputs": [],
   "source": [
    "# Counting NaNs\n",
    "num_missing_values = []\n",
    "for i in range(len(n_calibration)):\n",
    "    nan_num = n_dict_copy_001[f\"n_{n_calibration[i]}\"].mxe.isna().sum()\n",
    "    text = \"n = {0} has {1} missing values\".format(n_calibration[i], nan_num)\n",
    "    num_missing_values.append(nan_num)\n",
    "    print(text)"
   ]
  },
  {
   "cell_type": "code",
   "execution_count": null,
   "id": "8e0517e1",
   "metadata": {},
   "outputs": [],
   "source": [
    "# Plot missing values\n",
    "fig, ax = plt.subplots(figsize=(10, 5))\n",
    "\n",
    "ax.scatter(x=n_calibration, y=num_missing_values, c='red')\n",
    "ax.plot(n_calibration, num_missing_values) # For line\n",
    "ax.set_title(\"Missing values vs. Manning's n\")\n",
    "ax.set_xlabel(\"Manning's n\")\n",
    "ax.set_ylabel(\"Missing values\")"
   ]
  },
  {
   "cell_type": "markdown",
   "id": "cff55710",
   "metadata": {},
   "source": [
    "#### 3. Get errors"
   ]
  },
  {
   "cell_type": "code",
   "execution_count": null,
   "id": "a68cab56",
   "metadata": {},
   "outputs": [],
   "source": [
    "# Copy dictionary\n",
    "n_dict_copy_002 = copy.deepcopy(n_dict)"
   ]
  },
  {
   "cell_type": "code",
   "execution_count": null,
   "id": "6b053391",
   "metadata": {},
   "outputs": [],
   "source": [
    "# Get no missing data dictionary\n",
    "n_nomissing_dict = {}\n",
    "for i in range(len(n_calibration)):\n",
    "    n_nomissing_dict[f\"n_{n_calibration[i]}\"] = n_dict_copy_002[f\"n_{n_calibration[i]}\"][n_dict_copy_002['n_0.5'].mxe.notnull()]"
   ]
  },
  {
   "cell_type": "code",
   "execution_count": null,
   "id": "d6dea916",
   "metadata": {},
   "outputs": [],
   "source": [
    "# Generate RMSE without missing values\n",
    "rmse_selectedmissing_list = []\n",
    "for i in range(len(n_calibration)):\n",
    "    rmse = mean_squared_error(\n",
    "        n_nomissing_dict[f\"n_{n_calibration[i]}\"][n_nomissing_dict[f\"n_{n_calibration[i]}\"].mxe.notnull()].level, \n",
    "        n_nomissing_dict[f\"n_{n_calibration[i]}\"][n_nomissing_dict[f\"n_{n_calibration[i]}\"].mxe.notnull()].mxe, \n",
    "        squared=False\n",
    "    )\n",
    "    rmse_selectedmissing_list.append(rmse)\n",
    "    text = \"RMSE when n = {0} is {1:.3f}\".format(n_calibration[i], rmse_selectedmissing_list[i])\n",
    "    print(text)"
   ]
  },
  {
   "cell_type": "code",
   "execution_count": null,
   "id": "de7eb2b9",
   "metadata": {},
   "outputs": [],
   "source": [
    "# # Connected line\n",
    "# fig, ax = plt.subplots(figsize=(16, 6))\n",
    "\n",
    "# fontsize = 15\n",
    "# labelpad = 21\n",
    "\n",
    "# # Plot\n",
    "# # Line\n",
    "# ax.plot(n_calibration, rmse_selectedmissing_list, c='deeppink') # For line\n",
    "# # Points\n",
    "# ax.scatter(x=n_calibration, y=rmse_selectedmissing_list, \n",
    "#            facecolor='maroon', edgecolor='white', linewidth=1, s=70, zorder=2)\n",
    "\n",
    "# # Set up ticks\n",
    "# ax.set_xticks(np.arange(.5, 2.6, .1))\n",
    "# ax.set_yticks(np.arange(.3, 1, .1))\n",
    "\n",
    "# # Set up x limit\n",
    "# ax.set_ylim(bottom=.37)\n",
    "\n",
    "# # Adjust x and y labels\n",
    "# ax.set_xlabel(\"Multipliers of Manning's n\", fontsize=fontsize, labelpad=labelpad)\n",
    "# ax.set_ylabel(\"RMSE\\nof maximum water surface elevation (m)\", rotation=-270, fontsize=fontsize, labelpad=labelpad+5)\n",
    "\n",
    "    \n",
    "# # Set up ticks\n",
    "# for item in (ax.get_xticklabels() + ax.get_yticklabels()):  # For x, y ticks' labels\n",
    "#     item.set_fontsize(fontsize-2)\n",
    "# ax.tick_params(direction='out', length=labelpad-15, pad=labelpad-13)\n",
    "\n",
    "# # Save\n",
    "# plt.savefig(fr\"{main_dir}\\calibration_connectedline.png\", bbox_inches='tight', dpi=330)"
   ]
  },
  {
   "cell_type": "code",
   "execution_count": null,
   "id": "5dd22458",
   "metadata": {},
   "outputs": [],
   "source": [
    "# No connected lines\n",
    "fig, ax = plt.subplots(figsize=(16, 6))\n",
    "\n",
    "fontsize = 15\n",
    "labelpad = 21\n",
    "\n",
    "# Plot\n",
    "ax.scatter(x=n_calibration, y=rmse_selectedmissing_list, \n",
    "           facecolor='deeppink', edgecolor='maroon', linewidth=1, s=70, zorder=2)\n",
    "\n",
    "# Set up ticks\n",
    "ax.set_xticks(np.arange(.5, 2.6, .1))\n",
    "ax.set_yticks(np.arange(.3, 1, .1))\n",
    "\n",
    "# Set up x limit\n",
    "ax.set_ylim(bottom=.37)\n",
    "\n",
    "# Adjust x and y labels\n",
    "ax.set_xlabel(\"Multipliers of Manning's n\", fontsize=fontsize, labelpad=labelpad)\n",
    "ax.set_ylabel(\"RMSE\\nof maximum water surface elevation (m)\", rotation=-270, fontsize=fontsize, labelpad=labelpad+5)\n",
    "\n",
    "    \n",
    "# Set up ticks\n",
    "for item in (ax.get_xticklabels() + ax.get_yticklabels()):  # For x, y ticks' labels\n",
    "    item.set_fontsize(fontsize-2)\n",
    "ax.tick_params(direction='out', length=labelpad-15, pad=labelpad-13)\n",
    "\n",
    "# Save\n",
    "plt.savefig(fr\"{main_dir}\\calibration_noconnectedline.png\", bbox_inches='tight', dpi=330)"
   ]
  },
  {
   "cell_type": "code",
   "execution_count": null,
   "id": "b3d757a4",
   "metadata": {},
   "outputs": [],
   "source": []
  }
 ],
 "metadata": {
  "kernelspec": {
   "display_name": "Python [conda env:geofabrics49]",
   "language": "python",
   "name": "conda-env-geofabrics49-py"
  },
  "language_info": {
   "codemirror_mode": {
    "name": "ipython",
    "version": 3
   },
   "file_extension": ".py",
   "mimetype": "text/x-python",
   "name": "python",
   "nbconvert_exporter": "python",
   "pygments_lexer": "ipython3",
   "version": "3.9.13"
  }
 },
 "nbformat": 4,
 "nbformat_minor": 5
}
