{
 "cells": [
  {
   "cell_type": "markdown",
   "id": "6f4906cf",
   "metadata": {},
   "source": [
    "#### 0. Change directory"
   ]
  },
  {
   "cell_type": "code",
   "execution_count": 1,
   "id": "71709f0d",
   "metadata": {},
   "outputs": [],
   "source": [
    "# Reference: https://stackoverflow.com/questions/15514593/importerror-no-module-named-when-trying-to-run-python-script/15622021#15622021\n",
    "import sys\n",
    "sys.path.append(r'S:\\\\Grid_Orientation\\\\LISFLOOD_FP\\\\Modelling')"
   ]
  },
  {
   "cell_type": "markdown",
   "id": "8fa24cd8",
   "metadata": {},
   "source": [
    "#### 1. Packages"
   ]
  },
  {
   "cell_type": "code",
   "execution_count": 2,
   "id": "b8c03140",
   "metadata": {},
   "outputs": [],
   "source": [
    "from folder import *\n",
    "from randomisation import random_values_generation\n",
    "from dataPreparation import download_lidar, \\\n",
    "                            padding_combination, \\\n",
    "                            dem_raster_reference, \\\n",
    "                            terrain_shading             # For lidar downloading, padding calculation, dem reference generation, and terrain shading\n",
    "\n",
    "from transformation import center_calculation, get_url, get_tile_files, \\\n",
    "                           MyPool, transformation_performance, transformation_parallelism # For transformation using multiprocessing\n",
    "\n",
    "from rasterSimulation import raster_generation\n",
    "\n",
    "from floodModel import tide_flow_data, bdy_generation, tideboundary_points, flood_simulation\n",
    "\n",
    "# For creating plot\n",
    "import matplotlib.pyplot\n",
    "\n",
    "# For untransformation\n",
    "from untransformation import untransformation_parallelism\n",
    "\n",
    "import multiprocessing\n",
    "from functools import partial\n",
    "\n",
    "\n",
    "# For terrain shading\n",
    "import os\n",
    "import rioxarray as rxr\n",
    "import xarray as xr\n",
    "from osgeo import gdal"
   ]
  },
  {
   "cell_type": "markdown",
   "id": "3ed74c5c",
   "metadata": {},
   "source": [
    "#### 2. Necessary variables"
   ]
  },
  {
   "cell_type": "markdown",
   "id": "4907f87a",
   "metadata": {},
   "source": [
    "##### 2.1. Basic variables"
   ]
  },
  {
   "cell_type": "code",
   "execution_count": 3,
   "id": "fc577f65",
   "metadata": {},
   "outputs": [],
   "source": [
    "# Construct a list of boundary\n",
    "resolution = 10\n",
    "number_pixel_x = 16 * 42\n",
    "number_pixel_y = 16 * 28\n",
    "\n",
    "xmin = 1767790\n",
    "ymin = 5471400"
   ]
  },
  {
   "cell_type": "code",
   "execution_count": 4,
   "id": "706a0c54",
   "metadata": {},
   "outputs": [],
   "source": [
    "xmax = xmin + resolution * number_pixel_x\n",
    "ymax = ymin + resolution * number_pixel_y\n",
    "\n",
    "# Boundary for the area of interest\n",
    "boundary_1 = [xmin, ymin, xmax, ymax]\n",
    "\n",
    "# Padding boundary for DEMs (use this boundary to create padding)\n",
    "addition_2 = 16 * 3\n",
    "boundary_2 = padding_combination(boundary_1, addition_2)\n",
    "\n",
    "# Boundary for tiles (use this boundary to download LiDAR)\n",
    "addition_3 = 16 * 3\n",
    "boundary_3 = padding_combination(boundary_2, addition_3)"
   ]
  },
  {
   "cell_type": "code",
   "execution_count": 5,
   "id": "056153db",
   "metadata": {},
   "outputs": [],
   "source": [
    "# LiDAR dataset name\n",
    "lidar_name = \"Wellington_2013\"\n",
    "\n",
    "# Chunks and processors information\n",
    "size_of_chunk = 100\n",
    "size_of_processor = 4\n",
    "\n",
    "# Flow data\n",
    "flow_path = fr\"S:\\\\new_versions\\\\data\\\\flow.csv\"\n",
    "\n",
    "# Tide data\n",
    "tide_path = fr\"S:\\\\new_versions\\\\data\\\\tide.csv\"\n",
    "\n",
    "# date start and end\n",
    "date_start = r\"2005-01-05 00:00:00\"\n",
    "date_end = r\"2005-01-07 00:00:00\"\n",
    "\n",
    "# Tide flow data\n",
    "tide_flow_data(tide_path, flow_path, date_start, date_end)\n",
    "\n",
    "# Extracting flowdepth rate (for flowdepth_extraction() function)\n",
    "flowdepth_rate = 0\n",
    "\n",
    "# Time to extract flowdepth (for flowdepth_extraction() function)\n",
    "extract_name = \"out.max\""
   ]
  },
  {
   "cell_type": "markdown",
   "id": "18dabc59",
   "metadata": {},
   "source": [
    "##### 2.2. Preparing flood model parameters"
   ]
  },
  {
   "cell_type": "code",
   "execution_count": 6,
   "id": "1d1a9013",
   "metadata": {},
   "outputs": [],
   "source": [
    "# Create tide_flow data\n",
    "tide_flow_data(tide_path, flow_path, date_start, date_end)\n",
    "\n",
    "# River points\n",
    "river_points = (1774477.413, 5471521.558)\n",
    "\n",
    "# Create BDY file\n",
    "domain_name = \"Waikanae\"\n",
    "bdy_generation(resolution, domain_name)\n",
    "\n",
    "# Create tide boundary\n",
    "tideboundary_points(boundary_1, False)"
   ]
  },
  {
   "cell_type": "markdown",
   "id": "5ba8c617",
   "metadata": {},
   "source": [
    "##### 2.3. Preparing some flood model inputs"
   ]
  },
  {
   "cell_type": "code",
   "execution_count": 7,
   "id": "a9ebc072",
   "metadata": {},
   "outputs": [
    {
     "name": "stdout",
     "output_type": "stream",
     "text": [
      "CPU times: total: 797 ms\n",
      "Wall time: 855 ms\n"
     ]
    }
   ],
   "source": [
    "%%time\n",
    "# # Download LiDAR\n",
    "# download_lidar(boundary_3, lidar_name)\n",
    "\n",
    "# # Reference DEM without padding\n",
    "# dem_raster_reference(resolution, size_of_chunk, size_of_processor,\n",
    "#                      boundary_1, lidar_name, \"no_padding\")\n",
    "\n",
    "# # Reference DEM with padding\n",
    "# dem_raster_reference(resolution, size_of_chunk, size_of_processor,\n",
    "#                      boundary_2, lidar_name, \"padding\")\n",
    "\n",
    "# # DEM for hillshade/terrain shade\n",
    "# dem_raster_reference(2, 400, 6,\n",
    "#                      boundary_1, lidar_name, \"shading\")\n",
    "\n",
    "# # Terrain shading\n",
    "# terrain_shading(50, 355)\n",
    "\n",
    "# Calculate coordinates of center point\n",
    "center_point = center_calculation(True)\n",
    "center_x = center_point[0]                     # Extract x coordinate of center point\n",
    "center_y = center_point[1]                     # Extract y coordinate of center point\n",
    "\n",
    "# Transformation values\n",
    "ran_trans = random_values_generation(\n",
    "    1,\n",
    "    5,\n",
    "    [0, 90],\n",
    "    [0, resolution/2],\n",
    "    [0, resolution/2],\n",
    "    'uniform',\n",
    "    True\n",
    ")\n",
    "\n",
    "# Get url list file\n",
    "url_list_file = get_url(lidar_name)\n",
    "tile_files = get_tile_files(lidar_name)"
   ]
  },
  {
   "cell_type": "markdown",
   "id": "369e5f41",
   "metadata": {},
   "source": [
    "#### 3. Execution"
   ]
  },
  {
   "cell_type": "code",
   "execution_count": 8,
   "id": "51a733bb",
   "metadata": {},
   "outputs": [
    {
     "name": "stdout",
     "output_type": "stream",
     "text": [
      "CPU times: total: 0 ns\n",
      "Wall time: 20min 28s\n"
     ]
    }
   ],
   "source": [
    "%%time\n",
    "transformation_parallelism(\n",
    "    center_x,\n",
    "    center_y,\n",
    "    lidar_name,\n",
    "    tile_files,\n",
    "    30,\n",
    "    url_list_file,\n",
    "    ran_trans,\n",
    "    1\n",
    ")"
   ]
  },
  {
   "cell_type": "code",
   "execution_count": 9,
   "id": "3299ddbf",
   "metadata": {},
   "outputs": [
    {
     "name": "stdout",
     "output_type": "stream",
     "text": [
      "CPU times: total: 15.6 ms\n",
      "Wall time: 50min 15s\n"
     ]
    }
   ],
   "source": [
    "%%time\n",
    "# DEM CREATION\n",
    "# List parameters\n",
    "resolution_func = resolution\n",
    "chunk_size_func = size_of_chunk\n",
    "processor_func = size_of_processor\n",
    "padding_func = boundary_2\n",
    "lidar_dataset_name = lidar_name\n",
    "\n",
    "# Design func\n",
    "func = partial(\n",
    "    raster_generation,\n",
    "    resolution_func,\n",
    "    chunk_size_func,\n",
    "    processor_func,\n",
    "    padding_func,\n",
    "    lidar_dataset_name,\n",
    "    center_x, center_y\n",
    ")\n",
    "\n",
    "# Design pool\n",
    "pool = MyPool(5)\n",
    "pool.map(func, [ran for ran in ran_trans])\n",
    "pool.close()\n",
    "pool.join()"
   ]
  },
  {
   "cell_type": "code",
   "execution_count": 10,
   "id": "51f87643",
   "metadata": {},
   "outputs": [
    {
     "name": "stdout",
     "output_type": "stream",
     "text": [
      "CPU times: total: 219 ms\n",
      "Wall time: 48min 43s\n"
     ]
    }
   ],
   "source": [
    "%%time\n",
    "for ran_trans_i in ran_trans:\n",
    "    flood_simulation(\n",
    "        domain_name,\n",
    "        river_points,\n",
    "        center_x, center_y,\n",
    "        fr\"S:\\\\new_versions\\\\data\",\n",
    "        ran_trans_i\n",
    "    )"
   ]
  },
  {
   "cell_type": "code",
   "execution_count": 11,
   "id": "c2d13ffb",
   "metadata": {},
   "outputs": [
    {
     "name": "stdout",
     "output_type": "stream",
     "text": [
      "CPU times: total: 31.2 ms\n",
      "Wall time: 56.2 s\n"
     ]
    }
   ],
   "source": [
    "%%time\n",
    "untransformation_parallelism(\n",
    "    extract_name,\n",
    "    ran_trans,\n",
    "    30\n",
    ")"
   ]
  },
  {
   "cell_type": "code",
   "execution_count": null,
   "id": "d04ce73f",
   "metadata": {},
   "outputs": [],
   "source": []
  }
 ],
 "metadata": {
  "kernelspec": {
   "display_name": "Python [conda env:geofabrics49]",
   "language": "python",
   "name": "conda-env-geofabrics49-py"
  },
  "language_info": {
   "codemirror_mode": {
    "name": "ipython",
    "version": 3
   },
   "file_extension": ".py",
   "mimetype": "text/x-python",
   "name": "python",
   "nbconvert_exporter": "python",
   "pygments_lexer": "ipython3",
   "version": "3.9.13"
  }
 },
 "nbformat": 4,
 "nbformat_minor": 5
}
