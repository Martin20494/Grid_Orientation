{
 "cells": [
  {
   "cell_type": "markdown",
   "id": "6f4906cf",
   "metadata": {},
   "source": [
    "#### 0. Change directory"
   ]
  },
  {
   "cell_type": "code",
   "execution_count": null,
   "id": "71709f0d",
   "metadata": {},
   "outputs": [],
   "source": [
    "# Reference: https://stackoverflow.com/questions/15514593/importerror-no-module-named-when-trying-to-run-python-script/15622021#15622021\n",
    "# Here choosing the folder that stores all the modelling modules\n",
    "import sys\n",
    "sys.path.append(r'S:\\\\Grid_Orientation_code_006_machine_C002AU\\\\LISFLOOD_FP\\\\Modelling')"
   ]
  },
  {
   "cell_type": "markdown",
   "id": "8fa24cd8",
   "metadata": {},
   "source": [
    "#### 1. Packages"
   ]
  },
  {
   "cell_type": "code",
   "execution_count": null,
   "id": "b8c03140",
   "metadata": {},
   "outputs": [],
   "source": [
    "from folder import *\n",
    "from randomisation import random_values_generation\n",
    "from dataPreparation import download_lidar, \\\n",
    "                            padding_combination, \\\n",
    "                            dem_raster_reference, \\\n",
    "                            terrain_shading             # For lidar downloading, padding calculation, dem reference generation, and terrain shading\n",
    "\n",
    "from transformation import center_calculation, get_url, get_tile_files, \\\n",
    "                           MyPool, transformation_performance, transformation_parallelism # For transformation using multiprocessing\n",
    "\n",
    "from rasterSimulation import raster_generation\n",
    "\n",
    "from floodModel import tide_flow_data, bdy_generation, tideboundary_points, flood_simulation\n",
    "\n",
    "# For creating plot\n",
    "import matplotlib.pyplot\n",
    "\n",
    "# For untransformation\n",
    "from untransformation import untransformation_parallelism\n",
    "\n",
    "import multiprocessing\n",
    "from functools import partial\n",
    "\n",
    "\n",
    "# For terrain shading\n",
    "import os\n",
    "import rioxarray as rxr\n",
    "import xarray as xr\n",
    "from osgeo import gdal"
   ]
  },
  {
   "cell_type": "markdown",
   "id": "3ed74c5c",
   "metadata": {},
   "source": [
    "#### 2. Necessary variables"
   ]
  },
  {
   "cell_type": "code",
   "execution_count": null,
   "id": "7b0e7d68",
   "metadata": {},
   "outputs": [],
   "source": [
    "# 20-m resolution\n",
    "# # Construct a list of boundary\n",
    "# resolution = 20\n",
    "# number_pixel_x = 16 * 21\n",
    "# number_pixel_y = 16 * 14\n",
    "\n",
    "# xmin = 1767790\n",
    "# ymin = 5471400"
   ]
  },
  {
   "cell_type": "code",
   "execution_count": null,
   "id": "fc577f65",
   "metadata": {},
   "outputs": [],
   "source": [
    "# 10-m resolution\n",
    "# Construct a list of boundary\n",
    "resolution = 10\n",
    "number_pixel_x = 16 * 42\n",
    "number_pixel_y = 16 * 28\n",
    "\n",
    "xmin = 1767790\n",
    "ymin = 5471400"
   ]
  },
  {
   "cell_type": "code",
   "execution_count": null,
   "id": "94d3dfb6",
   "metadata": {},
   "outputs": [],
   "source": [
    "# 5-m resolution\n",
    "# # Construct a list of boundary\n",
    "# resolution = 5\n",
    "# number_pixel_x = 16 * 84\n",
    "# number_pixel_y = 16 * 56\n",
    "\n",
    "# xmin = 1767790\n",
    "# ymin = 5471400"
   ]
  },
  {
   "cell_type": "code",
   "execution_count": null,
   "id": "88b761cf",
   "metadata": {},
   "outputs": [],
   "source": [
    "# 2-m resolution\n",
    "# # Construct a list of boundary\n",
    "# resolution = 2\n",
    "# number_pixel_x = 16 * 210\n",
    "# number_pixel_y = 16 * 140\n",
    "\n",
    "# xmin = 1767790\n",
    "# ymin = 5471400"
   ]
  },
  {
   "cell_type": "markdown",
   "id": "4907f87a",
   "metadata": {},
   "source": [
    "##### 2.2. Other basic variables"
   ]
  },
  {
   "cell_type": "code",
   "execution_count": null,
   "id": "706a0c54",
   "metadata": {},
   "outputs": [],
   "source": [
    "xmax = xmin + resolution * number_pixel_x\n",
    "ymax = ymin + resolution * number_pixel_y\n",
    "\n",
    "# Boundary for the area of interest\n",
    "boundary_1 = [xmin, ymin, xmax, ymax]\n",
    "\n",
    "# Padding boundary for DEMs (use this boundary to create padding)\n",
    "addition_2 = 16 * 3\n",
    "boundary_2 = padding_combination(boundary_1, addition_2)\n",
    "\n",
    "# Boundary for tiles (use this boundary to download LiDAR)\n",
    "addition_3 = 16 * 3\n",
    "boundary_3 = padding_combination(boundary_2, addition_3)"
   ]
  },
  {
   "cell_type": "code",
   "execution_count": null,
   "id": "056153db",
   "metadata": {},
   "outputs": [],
   "source": [
    "# LiDAR dataset name\n",
    "lidar_name = \"Wellington_2013\"\n",
    "\n",
    "# # Chunks and processors information (for computer has 8 cores)\n",
    "# For 10-m resolution\n",
    "size_of_chunk = 100\n",
    "size_of_processor = 4\n",
    "# For 20-m resolution\n",
    "size_of_chunk = 50\n",
    "size_of_processor = 2\n",
    "# For 2-m resolution\n",
    "size_of_chunk = 400\n",
    "size_of_processor = 6\n",
    "# For 5-m resolution\n",
    "size_of_chunk = 200\n",
    "size_of_processor = 6\n",
    "\n",
    "# Flow data\n",
    "flow_path = fr\"S:\\\\new_versions\\\\data\\\\flow.csv\"\n",
    "\n",
    "# Tide data\n",
    "tide_path = fr\"S:\\\\new_versions\\\\data\\\\tide.csv\"\n",
    "\n",
    "# date start and end\n",
    "date_start = r\"2005-01-05 00:00:00\"\n",
    "date_end = r\"2005-01-07 00:00:00\"\n",
    "\n",
    "# Tide flow data\n",
    "tide_flow_data(tide_path, flow_path, date_start, date_end)\n",
    "\n",
    "# Extracting flowdepth rate (for flowdepth_extraction() function)\n",
    "flowdepth_rate = 0\n",
    "\n",
    "# Time to extract water (for water_extraction() function)\n",
    "extract_wd = \"out.max\"\n",
    "extract_wse = \"out.mxe\"\n",
    "extract_elev = \"elev\""
   ]
  },
  {
   "cell_type": "markdown",
   "id": "18dabc59",
   "metadata": {},
   "source": [
    "##### 2.3. Preparing flood model parameters"
   ]
  },
  {
   "cell_type": "code",
   "execution_count": null,
   "id": "1d1a9013",
   "metadata": {},
   "outputs": [],
   "source": [
    "# Create tide_flow data\n",
    "tide_flow_data(tide_path, flow_path, date_start, date_end)\n",
    "\n",
    "# River points\n",
    "river_points = (1774477.413, 5471521.558)\n",
    "\n",
    "# Create BDY file\n",
    "domain_name = \"Waikanae\"\n",
    "bdy_generation(resolution, domain_name)\n",
    "\n",
    "# Create tide boundary\n",
    "tideboundary_points(boundary_1, False)"
   ]
  },
  {
   "cell_type": "markdown",
   "id": "5ba8c617",
   "metadata": {},
   "source": [
    "##### 2.4. Preparing some flood model inputs"
   ]
  },
  {
   "cell_type": "code",
   "execution_count": null,
   "id": "a9ebc072",
   "metadata": {},
   "outputs": [],
   "source": [
    "# %%time\n",
    "# # Download LiDAR\n",
    "# download_lidar(boundary_3, lidar_name)\n",
    "\n",
    "# # Reference DEM without padding\n",
    "# dem_raster_reference(resolution, size_of_chunk, size_of_processor,\n",
    "#                      boundary_1, lidar_name, \"no_padding\")\n",
    "\n",
    "# # Reference DEM with padding\n",
    "# dem_raster_reference(resolution, size_of_chunk, size_of_processor,\n",
    "#                      boundary_2, lidar_name, \"padding\")\n",
    "\n",
    "# # DEM for hillshade/terrain shade\n",
    "# dem_raster_reference(2, 400, 6,\n",
    "#                      boundary_1, lidar_name, \"shading\")\n",
    "\n",
    "# # Terrain shading\n",
    "# terrain_shading(50, 355)\n",
    "\n",
    "# Calculate coordinates of center point\n",
    "center_point = center_calculation(True)\n",
    "center_x = center_point[0]                     # Extract x coordinate of center point\n",
    "center_y = center_point[1]                     # Extract y coordinate of center point\n",
    "\n",
    "# Get url list file\n",
    "url_list_file = get_url(lidar_name)\n",
    "tile_files = get_tile_files(lidar_name)"
   ]
  },
  {
   "cell_type": "markdown",
   "id": "eb099912",
   "metadata": {},
   "source": [
    "##### 2.5. Random transformations"
   ]
  },
  {
   "cell_type": "markdown",
   "id": "f0b9569d",
   "metadata": {},
   "source": [
    "##### 2.5.1. E translation (x)"
   ]
  },
  {
   "cell_type": "code",
   "execution_count": null,
   "id": "0b583d52",
   "metadata": {},
   "outputs": [],
   "source": [
    "# Transformation values\n",
    "ran_trans = random_values_generation(\n",
    "    1,\n",
    "    50,\n",
    "    [0, 0],\n",
    "    [0, resolution/2],\n",
    "    [0, 0],\n",
    "    'uniform',\n",
    "    True\n",
    ")"
   ]
  },
  {
   "cell_type": "markdown",
   "id": "9dfb133d",
   "metadata": {},
   "source": [
    "##### 2.5.2. N translation (y)"
   ]
  },
  {
   "cell_type": "code",
   "execution_count": null,
   "id": "03e9035c",
   "metadata": {},
   "outputs": [],
   "source": [
    "# Transformation values\n",
    "ran_trans = random_values_generation(\n",
    "    1,\n",
    "    50,\n",
    "    [0, 0],\n",
    "    [0, 0],\n",
    "    [0, resolution/2],\n",
    "    'uniform',\n",
    "    True\n",
    ")"
   ]
  },
  {
   "cell_type": "markdown",
   "id": "d791f67f",
   "metadata": {},
   "source": [
    "##### 2.5.3. N-E translation"
   ]
  },
  {
   "cell_type": "code",
   "execution_count": null,
   "id": "12a17600",
   "metadata": {},
   "outputs": [],
   "source": [
    "# Transformation values\n",
    "ran_trans = random_values_generation(\n",
    "    1,\n",
    "    50,\n",
    "    [0, 0],\n",
    "    [0, resolution/2],\n",
    "    [0, resolution/2],\n",
    "    'uniform',\n",
    "    True\n",
    ")"
   ]
  },
  {
   "cell_type": "markdown",
   "id": "d4a0ae3d",
   "metadata": {},
   "source": [
    "##### 2.5.4. Rotation"
   ]
  },
  {
   "cell_type": "code",
   "execution_count": null,
   "id": "2e683c05",
   "metadata": {},
   "outputs": [],
   "source": [
    "# Transformation values\n",
    "ran_trans = random_values_generation(\n",
    "    1,\n",
    "    50,\n",
    "    [0, 90],\n",
    "    [0, 0],\n",
    "    [0, 0],\n",
    "    'uniform',\n",
    "    True\n",
    ")"
   ]
  },
  {
   "cell_type": "markdown",
   "id": "6c062c6b",
   "metadata": {},
   "source": [
    "##### 2.5.5. N-E translation and rotation"
   ]
  },
  {
   "cell_type": "code",
   "execution_count": null,
   "id": "636272c0",
   "metadata": {},
   "outputs": [],
   "source": [
    "# Transformation values\n",
    "ran_trans = random_values_generation(\n",
    "    1,\n",
    "    50,\n",
    "    [0, 90],\n",
    "    [0, resolution/2],\n",
    "    [0, resolution/2],\n",
    "    'uniform',\n",
    "    True\n",
    ")"
   ]
  },
  {
   "cell_type": "markdown",
   "id": "ff92b77d",
   "metadata": {},
   "source": [
    "##### 2.6. Only for 2-m resolution (if not skip this part)"
   ]
  },
  {
   "cell_type": "code",
   "execution_count": null,
   "id": "2bbd64e8",
   "metadata": {},
   "outputs": [],
   "source": [
    "# import numpy as np\n",
    "# ran_trans = np.delete(ran_trans, [3, 4, 12, 40, 41], 0)\n",
    "# ran_trans = ran_trans[:50]"
   ]
  },
  {
   "cell_type": "markdown",
   "id": "369e5f41",
   "metadata": {},
   "source": [
    "#### 3. Execution"
   ]
  },
  {
   "cell_type": "code",
   "execution_count": null,
   "id": "51a733bb",
   "metadata": {},
   "outputs": [],
   "source": [
    "%%time\n",
    "transformation_parallelism(\n",
    "    center_x,\n",
    "    center_y,\n",
    "    lidar_name,\n",
    "    tile_files,\n",
    "    30,\n",
    "    url_list_file,\n",
    "    ran_trans,\n",
    "    1\n",
    ")"
   ]
  },
  {
   "cell_type": "code",
   "execution_count": null,
   "id": "3299ddbf",
   "metadata": {},
   "outputs": [],
   "source": [
    "%%time\n",
    "# DEM CREATION\n",
    "# List parameters\n",
    "resolution_func = resolution\n",
    "chunk_size_func = size_of_chunk\n",
    "processor_func = size_of_processor\n",
    "padding_func = boundary_2\n",
    "lidar_dataset_name = lidar_name\n",
    "\n",
    "# Design func\n",
    "func = partial(\n",
    "    raster_generation,\n",
    "    resolution_func,\n",
    "    chunk_size_func,\n",
    "    processor_func,\n",
    "    padding_func,\n",
    "    lidar_dataset_name,\n",
    "    center_x, center_y\n",
    ")\n",
    "\n",
    "# Design pool\n",
    "pool = MyPool(5)\n",
    "pool.map(func, [ran for ran in ran_trans])\n",
    "pool.close()\n",
    "pool.join()"
   ]
  },
  {
   "cell_type": "code",
   "execution_count": null,
   "id": "51f87643",
   "metadata": {},
   "outputs": [],
   "source": [
    "%%time\n",
    "for ran_trans_i in ran_trans:\n",
    "    flood_simulation(\n",
    "        domain_name,\n",
    "        river_points,\n",
    "        center_x, center_y,\n",
    "        fr\"S:\\\\new_versions\\\\data\",\n",
    "        ran_trans_i\n",
    "    )"
   ]
  },
  {
   "cell_type": "code",
   "execution_count": null,
   "id": "c2d13ffb",
   "metadata": {},
   "outputs": [],
   "source": [
    "%%time\n",
    "# Water depth\n",
    "untransformation_parallelism(\n",
    "    extract_wd,\n",
    "    ran_trans,\n",
    "    5\n",
    ")"
   ]
  },
  {
   "cell_type": "code",
   "execution_count": null,
   "id": "869f0633",
   "metadata": {},
   "outputs": [],
   "source": [
    "%%time\n",
    "# Water surface elevation\n",
    "untransformation_parallelism(\n",
    "    extract_wse,\n",
    "    ran_trans,\n",
    "    5\n",
    ")"
   ]
  },
  {
   "cell_type": "code",
   "execution_count": null,
   "id": "e701bd8f",
   "metadata": {},
   "outputs": [],
   "source": [
    "%%time\n",
    "# Elevation\n",
    "untransformation_parallelism(\n",
    "    extract_elev,\n",
    "    ran_trans,\n",
    "    5\n",
    ")"
   ]
  },
  {
   "cell_type": "code",
   "execution_count": null,
   "id": "bdb2587e",
   "metadata": {},
   "outputs": [],
   "source": []
  }
 ],
 "metadata": {
  "kernelspec": {
   "display_name": "Python [conda env:geofabrics49]",
   "language": "python",
   "name": "conda-env-geofabrics49-py"
  },
  "language_info": {
   "codemirror_mode": {
    "name": "ipython",
    "version": 3
   },
   "file_extension": ".py",
   "mimetype": "text/x-python",
   "name": "python",
   "nbconvert_exporter": "python",
   "pygments_lexer": "ipython3",
   "version": "3.9.13"
  }
 },
 "nbformat": 4,
 "nbformat_minor": 5
}
