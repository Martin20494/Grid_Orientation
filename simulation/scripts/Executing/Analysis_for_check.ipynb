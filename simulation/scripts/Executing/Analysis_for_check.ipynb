{
 "cells": [
  {
   "cell_type": "markdown",
   "id": "cbea34d0",
   "metadata": {},
   "source": [
    "## PREPARATION"
   ]
  },
  {
   "cell_type": "markdown",
   "id": "9a96a895",
   "metadata": {},
   "source": [
    "#### 0. Change directory"
   ]
  },
  {
   "cell_type": "code",
   "execution_count": 1,
   "id": "4550b9c2",
   "metadata": {},
   "outputs": [],
   "source": [
    "# Reference: https://stackoverflow.com/questions/15514593/importerror-no-module-named-when-trying-to-run-python-script/15622021#15622021\n",
    "# Here choosing the folder that stores all the analysing modules\n",
    "import sys\n",
    "sys.path.append(r'S:\\\\Grid_Orientation_code_006_machine_C002AU\\\\LISFLOOD_FP\\\\Analysis')"
   ]
  },
  {
   "cell_type": "markdown",
   "id": "ec03cb3a",
   "metadata": {},
   "source": [
    "#### 1. Packages"
   ]
  },
  {
   "cell_type": "code",
   "execution_count": 2,
   "id": "8aca17ed",
   "metadata": {},
   "outputs": [],
   "source": [
    "from folder import *\n",
    "\n",
    "# Packages for generating random angle, x, and y values\n",
    "from randomisation import random_values_generation\n",
    "\n",
    "# Packages for flowdepth values extraction\n",
    "from depthValue import *\n",
    "\n",
    "# Packages for impact calculation\n",
    "from impactCalculation import water_raster_nobackground, watermap_onepolygon_parallelism\n",
    "\n",
    "# Packages for variation calculation\n",
    "from statisticCalculation import calculation_dict\n",
    "\n",
    "# Packages for plotting map\n",
    "from statisticPlot import map_plotting_elev, map_plotting_wd, map_plotting_wse, map_plotting_n, area_building_plotting, area_plotting_only, building_plotting_only\n",
    "import statisticPlot\n",
    "import matplotlib.pyplot as plt\n",
    "\n",
    "# For raster/polygon manipulation\n",
    "import rioxarray as rxr\n",
    "import geopandas as gpd\n",
    "import pandas as pd\n",
    "\n",
    "# For flood threshold plotting\n",
    "from floodThreshold import flood_rate_comparison, flood_rate_plotting"
   ]
  },
  {
   "cell_type": "markdown",
   "id": "701c236c",
   "metadata": {},
   "source": [
    "#### 2. Data preparation"
   ]
  },
  {
   "cell_type": "code",
   "execution_count": 3,
   "id": "effaea4b",
   "metadata": {},
   "outputs": [],
   "source": [
    "# Resolution\n",
    "# resolution = 20\n",
    "resolution = 10\n",
    "# resolution = 5\n",
    "# resolution = 2\n",
    "\n",
    "# Time to extract flowdepth (for flowdepth_extraction() function)\n",
    "extract_wse = \"out.mxe\"\n",
    "extract_wd = 'out.max'\n",
    "extract_elev = 'elev'\n",
    "extract_n = 'n'\n",
    "\n",
    "# Flood rate\n",
    "flood_rate = 0.1\n",
    "\n",
    "# Building path\n",
    "building_path = fr\"S:\\new_versions\\data\\buildings\\lds-nz-building-outlines-all-sources-SHP_002.zip\"\n",
    "building_data = gpd.read_file(building_path)\n",
    "\n",
    "# Terrain path \n",
    "terrain_data = rxr.open_rasterio(fr\"{original_lidar_path}\\\\shading\\\\terrain_shading.tiff\")"
   ]
  },
  {
   "cell_type": "markdown",
   "id": "1b2d5999",
   "metadata": {},
   "source": [
    "---------------------------------------------------------------------------------------------------------------------------"
   ]
  },
  {
   "cell_type": "markdown",
   "id": "411b5983",
   "metadata": {},
   "source": [
    "## MANNING'S N"
   ]
  },
  {
   "cell_type": "code",
   "execution_count": null,
   "id": "ea3146f4",
   "metadata": {},
   "outputs": [],
   "source": [
    "# # If csv file was generated, use the code below to direct to the folder storing that csv file\n",
    "# df_n = pd.read_csv(fr\"S:/new_versions_006_forpublication/vers001/5_analysis/n/untransformed_csv/all_simulations.csv\")"
   ]
  },
  {
   "cell_type": "code",
   "execution_count": null,
   "id": "ccf07954",
   "metadata": {},
   "outputs": [],
   "source": [
    "%%time\n",
    "statistic_dict_n = calculation_dict(\n",
    "    df_n, resolution,\n",
    "    building_path,\n",
    "    flood_rate,\n",
    "    extract_n, -9999,\n",
    "    True\n",
    ")"
   ]
  },
  {
   "cell_type": "code",
   "execution_count": null,
   "id": "9db1d715",
   "metadata": {},
   "outputs": [],
   "source": [
    "%%time\n",
    "map_plotting_n(\n",
    "    ['sd'],\n",
    "    building_data,\n",
    "    terrain_data,\n",
    "    extract_n\n",
    ")"
   ]
  },
  {
   "cell_type": "markdown",
   "id": "6f69e9cc",
   "metadata": {},
   "source": [
    "-------------------------------------------------------"
   ]
  },
  {
   "cell_type": "markdown",
   "id": "8aa77068",
   "metadata": {},
   "source": [
    "## ELEVATION"
   ]
  },
  {
   "cell_type": "code",
   "execution_count": null,
   "id": "1f21a637",
   "metadata": {},
   "outputs": [],
   "source": [
    "# If csv file was generated, use the code below to direct to the folder storing that csv file\n",
    "df_elev = pd.read_csv(fr\"S:/new_versions_006_forpublication/vers001/5_analysis/elev/untransformed_csv/all_simulations.csv\")"
   ]
  },
  {
   "cell_type": "code",
   "execution_count": null,
   "id": "aa692e9e",
   "metadata": {},
   "outputs": [],
   "source": [
    "%%time\n",
    "statistic_dict_elev = calculation_dict(\n",
    "    df_elev, resolution,\n",
    "    building_path,\n",
    "    flood_rate,\n",
    "    extract_elev, -9999,\n",
    "    True\n",
    ")"
   ]
  },
  {
   "cell_type": "code",
   "execution_count": null,
   "id": "5d167ab5",
   "metadata": {
    "scrolled": false
   },
   "outputs": [],
   "source": [
    "%%time\n",
    "map_plotting_elev(\n",
    "    ['mean', 'sd'],\n",
    "    building_data,\n",
    "    terrain_data,\n",
    "    extract_elev\n",
    ")"
   ]
  },
  {
   "cell_type": "markdown",
   "id": "70699c8f",
   "metadata": {},
   "source": [
    "-----------------------------------------------------------------------"
   ]
  },
  {
   "cell_type": "markdown",
   "id": "9caa9791",
   "metadata": {},
   "source": [
    "## WATER SURFACE ELEVATION"
   ]
  },
  {
   "cell_type": "markdown",
   "id": "7e296dc8",
   "metadata": {},
   "source": [
    "##### 4.1. CSV generation"
   ]
  },
  {
   "cell_type": "code",
   "execution_count": 4,
   "id": "190d909e",
   "metadata": {},
   "outputs": [],
   "source": [
    "# If csv file was generated, use the code below to direct to the folder storing that csv file\n",
    "df_wse = pd.read_csv(fr\"S:/new_versions_006_forpublication/vers001/5_analysis/wse/untransformed_csv/all_simulations.csv\")"
   ]
  },
  {
   "cell_type": "markdown",
   "id": "e3b25f6d",
   "metadata": {},
   "source": [
    "##### 4.2. Impact calculation"
   ]
  },
  {
   "cell_type": "code",
   "execution_count": null,
   "id": "8e30caaf",
   "metadata": {},
   "outputs": [],
   "source": [
    "%%time\n",
    "water_raster_nobackground(df_wse, flood_rate, extract_wse)"
   ]
  },
  {
   "cell_type": "code",
   "execution_count": null,
   "id": "1c67e9b6",
   "metadata": {},
   "outputs": [],
   "source": [
    "%%time\n",
    "watermap_onepolygon_parallelism(df_wse, flood_rate, 30, extract_wse)"
   ]
  },
  {
   "cell_type": "markdown",
   "id": "5cf2a4e1",
   "metadata": {},
   "source": [
    "##### 4.3. Variation calculation"
   ]
  },
  {
   "cell_type": "code",
   "execution_count": 6,
   "id": "a3a361d8",
   "metadata": {},
   "outputs": [],
   "source": [
    "%%time\n",
    "statistic_dict_wse = calculation_dict(\n",
    "    df_wse, resolution,\n",
    "    building_path,\n",
    "    flood_rate,\n",
    "    extract_wse, -9999,\n",
    "    True\n",
    ")"
   ]
  },
  {
   "cell_type": "markdown",
   "id": "b59da851",
   "metadata": {},
   "source": [
    "##### 4.4. Map plotting"
   ]
  },
  {
   "cell_type": "code",
   "execution_count": null,
   "id": "3e1d299c",
   "metadata": {
    "scrolled": false
   },
   "outputs": [],
   "source": [
    "%%time\n",
    "map_plotting_wse(\n",
    "    ['mean', 'sd'],\n",
    "    building_data,\n",
    "    terrain_data,\n",
    "    extract_wse\n",
    ")"
   ]
  },
  {
   "cell_type": "markdown",
   "id": "2f238e08",
   "metadata": {},
   "source": [
    "##### 4.5. Buildings and Areas plotting"
   ]
  },
  {
   "cell_type": "code",
   "execution_count": null,
   "id": "f7bca68c",
   "metadata": {},
   "outputs": [],
   "source": [
    "# area_building_plotting(\n",
    "#     (10, 7),\n",
    "#     statistic_dict_wse['area'],\n",
    "#     [0.7, 0.95],\n",
    "#     'area'\n",
    "# )"
   ]
  },
  {
   "cell_type": "code",
   "execution_count": null,
   "id": "3be1645b",
   "metadata": {},
   "outputs": [],
   "source": [
    "# area_building_plotting(\n",
    "#     (10, 7),\n",
    "#     statistic_dict_wse['building'],\n",
    "#     [0.7, 0.95],\n",
    "#     'building'\n",
    "# )"
   ]
  },
  {
   "cell_type": "markdown",
   "id": "50e7bdb9",
   "metadata": {},
   "source": [
    "---------------------------------------------------------------------------------------------------------------------------"
   ]
  },
  {
   "cell_type": "markdown",
   "id": "cca1c805",
   "metadata": {},
   "source": [
    "## WATER DEPTH"
   ]
  },
  {
   "cell_type": "markdown",
   "id": "dd43daa0",
   "metadata": {},
   "source": [
    "##### 5.1. CSV generation"
   ]
  },
  {
   "cell_type": "code",
   "execution_count": null,
   "id": "a81baadc",
   "metadata": {},
   "outputs": [],
   "source": [
    "# If csv file was generated, use the code below to direct to the folder storing that csv file\n",
    "df_wd = pd.read_csv(fr\"S:/new_versions_006_forpublication/vers001/5_analysis/wd/untransformed_csv/all_simulations.csv\")"
   ]
  },
  {
   "cell_type": "markdown",
   "id": "7586921b",
   "metadata": {},
   "source": [
    "##### 5.2. Impact calculation"
   ]
  },
  {
   "cell_type": "code",
   "execution_count": null,
   "id": "7f7d11b7",
   "metadata": {},
   "outputs": [],
   "source": [
    "%%time\n",
    "water_raster_nobackground(df_wd, flood_rate, extract_wd)"
   ]
  },
  {
   "cell_type": "code",
   "execution_count": null,
   "id": "100b4b1c",
   "metadata": {},
   "outputs": [],
   "source": [
    "%%time\n",
    "watermap_onepolygon_parallelism(df_wd, flood_rate, 30, extract_wd)"
   ]
  },
  {
   "cell_type": "markdown",
   "id": "7ec0ca8f",
   "metadata": {},
   "source": [
    "##### 5.3. Variation calculation"
   ]
  },
  {
   "cell_type": "code",
   "execution_count": null,
   "id": "2a1d3b97",
   "metadata": {},
   "outputs": [],
   "source": [
    "%%time\n",
    "statistic_dict_wd = calculation_dict(\n",
    "    df_wd, resolution,\n",
    "    building_path,\n",
    "    flood_rate,\n",
    "    extract_wd, -9999,\n",
    "    False\n",
    ")"
   ]
  },
  {
   "cell_type": "markdown",
   "id": "b23b8f3d",
   "metadata": {},
   "source": [
    "##### 5.4. Map plotting"
   ]
  },
  {
   "cell_type": "code",
   "execution_count": null,
   "id": "e5744e81",
   "metadata": {
    "scrolled": false
   },
   "outputs": [],
   "source": [
    "%%time\n",
    "map_plotting_wd(\n",
    "    ['mean', 'sd', 'cv', 'cell'],\n",
    "    building_data,\n",
    "    terrain_data,\n",
    "    extract_wd\n",
    ")"
   ]
  },
  {
   "cell_type": "markdown",
   "id": "43dede0d",
   "metadata": {},
   "source": [
    "##### 5.5. Buildings and Areas plotting"
   ]
  },
  {
   "cell_type": "code",
   "execution_count": null,
   "id": "b206ccf4",
   "metadata": {},
   "outputs": [],
   "source": [
    "area_plotting_only(\n",
    "    (10, 7),\n",
    "    statistic_dict_wd['area'],\n",
    "    [0.2, 0.95],\n",
    "    'area'\n",
    ")"
   ]
  },
  {
   "cell_type": "code",
   "execution_count": null,
   "id": "663374f1",
   "metadata": {},
   "outputs": [],
   "source": [
    "building_plotting_only(\n",
    "    (10, 7),\n",
    "    statistic_dict_wd['building'],\n",
    "    [0.2, 0.95],\n",
    "    'building'\n",
    ")"
   ]
  },
  {
   "cell_type": "code",
   "execution_count": null,
   "id": "fdfc714a",
   "metadata": {},
   "outputs": [],
   "source": []
  }
 ],
 "metadata": {
  "kernelspec": {
   "display_name": "Python [conda env:mluncertainty_001] *",
   "language": "python",
   "name": "conda-env-mluncertainty_001-py"
  },
  "language_info": {
   "codemirror_mode": {
    "name": "ipython",
    "version": 3
   },
   "file_extension": ".py",
   "mimetype": "text/x-python",
   "name": "python",
   "nbconvert_exporter": "python",
   "pygments_lexer": "ipython3",
   "version": "3.9.13"
  }
 },
 "nbformat": 4,
 "nbformat_minor": 5
}
