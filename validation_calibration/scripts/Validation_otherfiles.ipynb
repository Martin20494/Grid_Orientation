{
 "cells": [
  {
   "cell_type": "markdown",
   "id": "ca6f27c2",
   "metadata": {},
   "source": [
    "#### 1. Preparation"
   ]
  },
  {
   "cell_type": "code",
   "execution_count": null,
   "id": "c3b8d6bc",
   "metadata": {},
   "outputs": [],
   "source": [
    "# This line of code is for accessing the virtual folder '\\\\file'\n",
    "# I mapped the path to my virtual folder as S:\\\n",
    "# Reference: https://stackoverflow.com/questions/15514593/importerror-no-module-named-when-trying-to-run-python-script/15622021#15622021\n",
    "import sys\n",
    "sys.path.append(r'S:\\Grid_Ori_bigdata')"
   ]
  },
  {
   "cell_type": "code",
   "execution_count": null,
   "id": "f3e04182",
   "metadata": {},
   "outputs": [],
   "source": [
    "# Packages\n",
    "import os\n",
    "import pathlib\n",
    "import datetime\n",
    "\n",
    "import numpy as np\n",
    "import pandas as pd\n",
    "\n",
    "import xarray as xr\n",
    "import rioxarray as rxr\n",
    "import rasterio as rio\n",
    "\n",
    "import geopandas as gpd\n",
    "from shapely.geometry import LineString, Point, MultiPoint\n",
    "\n",
    "import matplotlib.pyplot as plt\n",
    "import seaborn as sns"
   ]
  },
  {
   "cell_type": "code",
   "execution_count": null,
   "id": "7fbe1326",
   "metadata": {},
   "outputs": [],
   "source": [
    "# Set up main directory\n",
    "main_dir = r\"S:\\Grid_Ori_bigdata\""
   ]
  },
  {
   "cell_type": "code",
   "execution_count": null,
   "id": "48ba88c2",
   "metadata": {},
   "outputs": [],
   "source": [
    "resolution = 5"
   ]
  },
  {
   "cell_type": "markdown",
   "id": "980e992c",
   "metadata": {},
   "source": [
    "#### 2. Read DEM"
   ]
  },
  {
   "cell_type": "markdown",
   "id": "32f6152e",
   "metadata": {},
   "source": [
    "Here, the DEM and roughness was coppied from 'dem' and 'roughness' folders to 'others' folder after generated"
   ]
  },
  {
   "cell_type": "code",
   "execution_count": null,
   "id": "602efea0",
   "metadata": {},
   "outputs": [],
   "source": [
    "# If DEM needs clipping\n",
    "# # Read DEM file\n",
    "# dem_xr = xr.open_dataset(fr\"{main_dir}\\\\dem.nc\")\n",
    "\n",
    "# # Assign crs\n",
    "# dem_xr = dem_xr.rio.write_crs(\"epsg:2193\", inplace=True)\n",
    "\n",
    "# # Design cropping box\n",
    "# clipped_geometry_domain =[\n",
    "#     {\n",
    "#         'type': 'Polygon',\n",
    "#         'coordinates': [[\n",
    "#             [1767791, 5471399],\n",
    "#             [1767791, 5475880],\n",
    "#             [1774510, 5475880],\n",
    "#             [1774510, 5471399],\n",
    "#             [1767791, 5471399]\n",
    "#         ]]\n",
    "#     }\n",
    "# ]\n",
    "\n",
    "# # Crop by geometry domain\n",
    "# dem_xr_domain = dem_xr.z.rio.clip(clipped_geometry_domain)"
   ]
  },
  {
   "cell_type": "code",
   "execution_count": null,
   "id": "ff24e047",
   "metadata": {},
   "outputs": [],
   "source": [
    "# Read DEM file\n",
    "dem_xr = xr.open_dataset(fr\"{main_dir}\\\\dem.nc\")\n",
    "\n",
    "# Assign crs\n",
    "dem_xr = dem_xr.rio.write_crs(\"epsg:2193\", inplace=True)\n",
    "\n",
    "# Crop by geometry domain\n",
    "dem_xr_domain = dem_xr.z"
   ]
  },
  {
   "cell_type": "markdown",
   "id": "297af2d9",
   "metadata": {},
   "source": [
    "#### 3. Roughness length to Manning's n"
   ]
  },
  {
   "cell_type": "code",
   "execution_count": null,
   "id": "0ecebf1e",
   "metadata": {},
   "outputs": [],
   "source": [
    "# If roughness needs clipping\n",
    "# # Load zo - roughness length raster file\n",
    "# zo_xr = xr.open_dataset(fr\"{main_dir}\\\\zo.nc\")\n",
    "\n",
    "# # Assign crs\n",
    "# zo_xr = zo_xr.rio.write_crs(\"epsg:2193\", inplace=True)\n",
    "\n",
    "# # Crop box\n",
    "# geometry_roughness = [\n",
    "#     {\n",
    "#         'type': 'Polygon',\n",
    "#         'coordinates': [[\n",
    "#             [1767790, 5471400],\n",
    "#             [1767790, 5475880],\n",
    "#             [1774510, 5475880],\n",
    "#             [1774510, 5471400],\n",
    "#             [1767790, 5471400]\n",
    "#         ]]\n",
    "#     }\n",
    "# ]\n",
    "\n",
    "# # Crop by geometry domain\n",
    "# zo_xr_domain = zo_xr.rio.clip(geometry_roughness)\n",
    "\n",
    "# # Choose H=1 to obtain n\n",
    "# n_domain = zo_to_n(zo_xr_domain, 1)"
   ]
  },
  {
   "cell_type": "code",
   "execution_count": null,
   "id": "59c8faae",
   "metadata": {},
   "outputs": [],
   "source": [
    "# Building up a function to convert roughness length (Z0) to Manning's n\n",
    "def zo_to_n(zo, H):\n",
    "    ''' This function is to convert roughness length (Z0) to Manning's n\n",
    "    Ref: https://doi.org/10.1080/15715124.2017.1411923\n",
    "    '''\n",
    "    return (0.41 * (H**(1/6)) * ((H/zo) - 1))/(np.sqrt(9.80665) * (1 + (H/zo) * (np.log(H/zo) - 1)))"
   ]
  },
  {
   "cell_type": "code",
   "execution_count": null,
   "id": "13e9a323",
   "metadata": {},
   "outputs": [],
   "source": [
    "# Load zo - roughness length raster file\n",
    "zo_xr = xr.open_dataset(fr\"{main_dir}\\\\zo.nc\")\n",
    "\n",
    "# Assign crs\n",
    "zo_xr = zo_xr.rio.write_crs(\"epsg:2193\", inplace=True)\n",
    "\n",
    "# Crop by geometry domain\n",
    "zo_xr_domain = zo_xr.zo\n",
    "\n",
    "# Choose H=1 to obtain n\n",
    "n_domain = zo_to_n(zo_xr_domain, 1)"
   ]
  },
  {
   "cell_type": "markdown",
   "id": "1598a7c8",
   "metadata": {},
   "source": [
    "#### 3. Tide and flow"
   ]
  },
  {
   "cell_type": "markdown",
   "id": "3c2a8813",
   "metadata": {},
   "source": [
    "Flow and tidal data are extracted from [Greater Wellington Regional Council](http://graphs.gw.govt.nz/?siteName=Waikanae%20River%20at%20Water%20Treatment%20Plant&dataSource=Flow) from 5th to 6th Jan 2005 and [NIWA Tide Forecaster](https://tides.niwa.co.nz/416?latitude=-40.866&longitude=174.987&datum=MSL&interval=10&startDate=4172005-01-01&numberOfDay) respectively. They are then saved as 'csv' file and saved in 'others' folder."
   ]
  },
  {
   "cell_type": "code",
   "execution_count": null,
   "id": "28920f63",
   "metadata": {},
   "outputs": [],
   "source": [
    "## FLOW\n",
    "\n",
    "# New Zealand time is 12 hours ahead Universal Time Coordinated --> UTC(0) and NZST(+12)\n",
    "# So to convert back to UTC, the time needs to be converted back to New Zealand time\n",
    "# http://graphs.gw.govt.nz/?siteName=Waikanae%20River%20at%20Water%20Treatment%20Plant&dataSource=Flow\n",
    "flowJan2005 = pd.read_csv(fr\"{main_dir}\\\\flow.csv\", skiprows=[0], \n",
    "                          names=['DateChar', 'Flow', 'Quality'],\n",
    "                          header=None)\n",
    "\n",
    "# Get flow data\n",
    "flowJan2005 = pd.read_csv(fr\"{main_dir}\\\\flow.csv\", names=['DateChar', 'Flow', 'Quality'], skiprows=[0], header=None)\n",
    "flowJan2005 = flowJan2005[['DateChar', 'Flow']]\n",
    "\n",
    "# Convert time data\n",
    "flowJan2005['DateTime'] = pd.to_datetime(flowJan2005['DateChar'], format=\"%m/%d/%Y %H:%M:%S\", utc=False)\n",
    "flowJan2005['DateTime'] = flowJan2005['DateTime'].dt.tz_localize(None)"
   ]
  },
  {
   "cell_type": "code",
   "execution_count": null,
   "id": "4a3990af",
   "metadata": {},
   "outputs": [],
   "source": [
    "# Get tide data\n",
    "tideJan2005 = pd.read_csv(fr\"{main_dir}\\\\tide.csv\",\n",
    "                          skiprows=np.arange(0, 9, 1),\n",
    "                          names=['DateChar', 'Level'],\n",
    "                          header=None)\n",
    "# Convert time data\n",
    "tideJan2005['DateTime'] = pd.to_datetime(tideJan2005['DateChar'], format=\"%Y-%m-%dT%H:%M:%SZ\", utc=False)\n",
    "tideJan2005['DateTime'] = tideJan2005['DateTime'].dt.tz_localize(None) # Romve timezone"
   ]
  },
  {
   "cell_type": "code",
   "execution_count": null,
   "id": "8b1fc4d5",
   "metadata": {},
   "outputs": [],
   "source": [
    "# Convert level data\n",
    "tideJan2005['Level'] = tideJan2005['Level'] - 0.11\n",
    "\n",
    "# Convert timezone\n",
    "time_change = datetime.timedelta(hours=12)\n",
    "tideJan2005['DateTime'] = tideJan2005['DateTime'] + time_change\n",
    "\n",
    "# Align flow and tide data\n",
    "tide_flowJan2005 = pd.merge(tideJan2005, flowJan2005, how='outer', on='DateTime')[['DateTime', \"Flow\", \"Level\"]]\n",
    "tide_flowJan2005 = tide_flowJan2005.sort_values(by='DateTime').reset_index(drop=True)\n",
    "tide_flowJan2005['Level'] = tide_flowJan2005['Level'].interpolate(method='cubic')\n",
    "\n",
    "# Select/Filter time\n",
    "date_start = pd.to_datetime(\"2005-01-05 00:00:00\")\n",
    "date_end = pd.to_datetime(\"2005-01-07 00:00:00\")\n",
    "\n",
    "# Merge tide and flow\n",
    "tide_flowJan2005 = tide_flowJan2005.loc[(tide_flowJan2005.DateTime >= \"2005-01-05 00:00:00\")\n",
    "                                        & (tide_flowJan2005.DateTime <= \"2005-01-07 00:00:00\")]"
   ]
  },
  {
   "cell_type": "code",
   "execution_count": null,
   "id": "c4cc3088",
   "metadata": {},
   "outputs": [],
   "source": [
    "# Plot\n",
    "fig, axes = plt.subplots(2, figsize=(20, 10))\n",
    "fig.tight_layout(pad=6.0)\n",
    "\n",
    "# Tide\n",
    "axes[0].plot(tide_flowJan2005.DateTime, tide_flowJan2005.Level, linewidth=2, color='deeppink')\n",
    "axes[0].set_xlabel('Time (mm-dd hh)', fontsize=12, labelpad=15)\n",
    "axes[0].set_ylabel('Tide level (m)', fontsize=15)\n",
    "\n",
    "# Flow\n",
    "axes[1].plot(tide_flowJan2005.DateTime, tide_flowJan2005.Flow, linewidth=2, color='deeppink')\n",
    "axes[1].set_xlabel('Time (mm-dd hh)', fontsize=12, labelpad=15)\n",
    "axes[1].set_ylabel(r'Flow discharge ($\\frac{m^{3}}{s}$)', fontsize=15)\n",
    "\n",
    "# Save plots\n",
    "plt.savefig(fr\"{main_dir}\", bbox_inches='tight', dpi=330)"
   ]
  },
  {
   "cell_type": "markdown",
   "id": "cdac11a6",
   "metadata": {},
   "source": [
    "#### 4. Startdepth"
   ]
  },
  {
   "cell_type": "code",
   "execution_count": null,
   "id": "d3164aed",
   "metadata": {},
   "outputs": [],
   "source": [
    "# Start file\n",
    "startdepth = dem_xr_domain\n",
    "startdepth = startdepth.where(startdepth.values <= tide_flowJan2005.Level.iloc[0], other=np.nan)\n",
    "startdepth = startdepth * -1"
   ]
  },
  {
   "cell_type": "markdown",
   "id": "d5218f73",
   "metadata": {},
   "source": [
    "#### 5. Sea"
   ]
  },
  {
   "cell_type": "code",
   "execution_count": null,
   "id": "5def5061",
   "metadata": {},
   "outputs": [],
   "source": [
    "# Copy all files for easy manipulation without changing the originals\n",
    "dem_xr_domain_copy = dem_xr_domain.copy(deep=True)\n",
    "n_domain_copy = n_domain.copy(deep=True)\n",
    "startdepth_copy = startdepth.copy(deep=True)"
   ]
  },
  {
   "cell_type": "code",
   "execution_count": null,
   "id": "89d39405",
   "metadata": {},
   "outputs": [],
   "source": [
    "# Sea\n",
    "seaarea = dem_xr_domain_copy * np.nan\n",
    "seaarea = seaarea.where(dem_xr_domain_copy.values >= (np.min(tide_flowJan2005.Level)-3), other=1)\n",
    "\n",
    "# Remove sea area\n",
    "dem_xr_domain_copy = dem_xr_domain_copy.where(seaarea.values != 1, other=np.nan) # cropped DEM\n",
    "n_domain_copy = n_domain_copy.where(seaarea.values != 1, other=np.nan) # Manning's n\n",
    "startdepth_copy = startdepth.where(seaarea.values != 1, other=np.nan)"
   ]
  },
  {
   "cell_type": "markdown",
   "id": "5f09d6f1",
   "metadata": {},
   "source": [
    "#### 6. Export rasters"
   ]
  },
  {
   "cell_type": "code",
   "execution_count": null,
   "id": "3f91f08d",
   "metadata": {},
   "outputs": [],
   "source": [
    "# Write DEM\n",
    "dem_xr_domain_copy = dem_xr_domain_copy.rio.write_nodata(-9999, inplace=True)\n",
    "dem_xr_domain_copy.rio.to_raster(fr\"{main_dir}\\\\dem_001.nc\")\n",
    "dem_xr_domain_copy = rxr.open_rasterio(fr\"{main_dir}\\\\dem_001.nc\")\n",
    "dem_xr_domain_copy.rio.to_raster(fr\"{main_dir}\\\\dem.asc\")\n",
    "\n",
    "# Write roughness\n",
    "n_domain_copy = n_domain_copy.rio.write_nodata(-9999, inplace=True)\n",
    "n_domain_copy.rio.to_raster(fr\"{main_dir}\\\\n_001.nc\")\n",
    "n_domain_copy = rxr.open_rasterio(fr\"{main_dir}\\\\n_001.nc\")\n",
    "n_domain_copy.rio.to_raster(fr\"{main_dir}\\\\n.asc\")\n",
    "\n",
    "# Write startdepth\n",
    "startdepth_copy = startdepth_copy.rio.write_nodata(-9999, inplace=True)\n",
    "startdepth_copy.rio.to_raster(fr\"{main_dir}\\\\startdepth_001.nc\")\n",
    "startdepth_copy = rxr.open_rasterio(fr\"{main_dir}\\\\startdepth_001.nc\")\n",
    "startdepth_copy.rio.to_raster(fr\"{main_dir}\\\\startdepth.asc\")"
   ]
  },
  {
   "cell_type": "markdown",
   "id": "f1a5c068",
   "metadata": {},
   "source": [
    "#### 7. Tide points"
   ]
  },
  {
   "cell_type": "markdown",
   "id": "41a0b2b8",
   "metadata": {},
   "source": [
    "Here, the file 'tideboundary.shp' was drawn using QGIS based on the generated DEM."
   ]
  },
  {
   "cell_type": "code",
   "execution_count": null,
   "id": "a0341fff",
   "metadata": {},
   "outputs": [],
   "source": [
    "# Method 2: Create river points along the river line\n",
    "tideboundary = gpd.read_file(fr\"{main_dir}\\\\tideboundary.shp\") # Read file\n",
    "tideboundary_line = tideboundary.geometry[0]\n",
    "tide_sampledis = 120\n",
    "tide_num_points = 36 # Set up number of points\n",
    "tidepoints = [tideboundary_line.interpolate((1/(tideboundary_line.length/tide_sampledis)) * i, normalized=True) for i in range(tide_num_points)] # Create a list comprehension to collect all coordinates of points \n",
    "tidepoints_geo = MultiPoint(tidepoints) # Gather all points into MultiPoint geometry"
   ]
  },
  {
   "cell_type": "code",
   "execution_count": null,
   "id": "9fd3d44e",
   "metadata": {},
   "outputs": [],
   "source": [
    "tideboundary_points = list(tidepoints_geo.geoms) # Method 2: List all points in MultiPoint\n",
    "tideboundary_data = {'geometry': tideboundary_points}\n",
    "tidepts = gpd.GeoDataFrame(data=tideboundary_data, crs=\"EPSG:2193\")\n",
    "tidepts.to_file(fr\"{main_dir}\\\\tidepts.shp\")"
   ]
  },
  {
   "cell_type": "markdown",
   "id": "0ecc1319",
   "metadata": {},
   "source": [
    "#### 8. Writing files"
   ]
  },
  {
   "cell_type": "code",
   "execution_count": null,
   "id": "60c06ed1",
   "metadata": {},
   "outputs": [],
   "source": [
    "# Convert to seconds\n",
    "tide_flowJan2005['seconds'] = pd.to_numeric(tide_flowJan2005.DateTime - np.min(tide_flowJan2005.DateTime))/(10**9)\n",
    "tide_flowJan2005['seconds'] = tide_flowJan2005['seconds'].astype('int')"
   ]
  },
  {
   "cell_type": "code",
   "execution_count": null,
   "id": "efce0a4a",
   "metadata": {},
   "outputs": [],
   "source": [
    "# Create discharge dataframe\n",
    "flow_df = tide_flowJan2005[['Flow', 'seconds']].copy(deep=True)\n",
    "flow_df['Flow'] = round(flow_df['Flow']/resolution, 4)\n",
    "flow_df['seconds'] = flow_df['seconds'].astype(int) # ref: https://stackoverflow.com/questions/51865367/cannot-convert-the-series-to-class-int\n",
    "\n",
    "# Create tide dataframe\n",
    "tide_df = tide_flowJan2005[['Level', 'seconds']].copy(deep=True)\n",
    "tide_df['Level'] = round(tide_df['Level'], 3)\n",
    "tide_df['seconds'] = tide_df['seconds'].astype(int)\n",
    "\n",
    "# Write BDY file - Flow file\n",
    "with open(fr\"{main_dir}\\\\waikanae.bdy\", \"w\") as discharge_tide:\n",
    "    # Write discharge\n",
    "    discharge_note = \"Waikanae LISFLOOD-FP setup\\n\"\n",
    "    discharge_reference = discharge_note + \"Waikanae\\n\"\n",
    "    discharge_column_name = discharge_reference + '{0:<20}seconds\\n'.format(tide_flowJan2005.Flow.shape[0])\n",
    "    discharge_tide.write(discharge_column_name)\n",
    "    for discharge_line in range(tide_flowJan2005.Flow.shape[0]):\n",
    "        data_discharge = flow_df.iloc[discharge_line]\n",
    "        text_river_discharge = '{0[0]:<20}{0[1]:.0f}\\n'.format(data_discharge)\n",
    "        discharge_tide.write(text_river_discharge)\n",
    "    \n",
    "    # Write tide\n",
    "    tide_reference = 'Tide\\n'\n",
    "    tide_column_name = tide_reference + '{0:<20}seconds\\n'.format(tide_flowJan2005.Level.shape[0])\n",
    "    discharge_tide.write(tide_column_name)\n",
    "    for tide_line in range(tide_flowJan2005.Level.shape[0]):\n",
    "        data_tide = tide_df.iloc[tide_line]\n",
    "        text_tide = '{0[0]:<20}{0[1]:.0f}\\n'.format(data_tide)\n",
    "        discharge_tide.write(text_tide)"
   ]
  },
  {
   "cell_type": "code",
   "execution_count": null,
   "id": "cfc301d4",
   "metadata": {},
   "outputs": [],
   "source": [
    "# Injection point\n",
    "injection = ['P', 1774477.413, 5471521.558, 'QVAR', 'Waikanae']\n",
    "\n",
    "# Write BCI file - injection point and tide\n",
    "with open(fr\"{main_dir}\\\\waikanae.bci\", \"w\") as boundary:\n",
    "    injection_text = '{0[0]:<5}{0[1]:<20}{0[2]:<20}{0[3]:<7}{0[4]:<5}\\n'.format(injection)\n",
    "    boundary.write(injection_text)\n",
    "    for line in range(tidepts.shape[0]):\n",
    "        tide_boundary = ['P', int(round(tidepts.iloc[line][0].x, 0)), int(round(tidepts.iloc[line][0].y, 0)), 'HVAR', 'Tide']\n",
    "        tide_text = '{0[0]:<5}{0[1]:<20}{0[2]:<20}{0[3]:<7}{0[4]:<5}\\n'.format(tide_boundary)\n",
    "        boundary.write(tide_text)"
   ]
  },
  {
   "cell_type": "code",
   "execution_count": null,
   "id": "f0c36481",
   "metadata": {},
   "outputs": [],
   "source": [
    "# Write PAR file - parameter file\n",
    "# Create a list\n",
    "parameters_list = [\n",
    "    ('resroot', 'out'),\n",
    "    ('dirroot', 'test_nearest'),\n",
    "    ('saveint', 3600),\n",
    "    ('massint', 100),\n",
    "    ('sim_time', 172800),\n",
    "    ('initial_tstep', 2),\n",
    "    ('bcifile', 'waikanae.bci'),\n",
    "    ('bdyfile', 'waikanae.bdy'),\n",
    "    ('DEMFile', 'dem.asc'),\n",
    "    ('manningfile', 'n.asc'),\n",
    "    ('startfile', 'startdepth.asc'),\n",
    "    ('dynamicrainfile', 'dynamicrain_nearest.nc')\n",
    "]\n",
    "\n",
    "# Write into array\n",
    "parameters_array = np.array(parameters_list)\n",
    "\n",
    "# Write into text file par format\n",
    "with open(fr\"{main_dir}\\\\waikanae.par\", 'w') as parameters:\n",
    "    for each_parameter in range(parameters_array.shape[0]):\n",
    "        data_parameter = parameters_array[each_parameter]\n",
    "        text_parameter = '{0[0]:<20}{0[1]}\\n'.format(data_parameter)\n",
    "        parameters.write(text_parameter)\n",
    "    parameters.write('acceleration\\ndrain_nodata\\n\\n')"
   ]
  },
  {
   "cell_type": "code",
   "execution_count": null,
   "id": "0e7598bd",
   "metadata": {},
   "outputs": [],
   "source": [
    "# Create folder\n",
    "pathlib.Path(fr\"S:\\Grid_Ori_bigdata\\test_nearest\").mkdir(parents=True, exist_ok=True)"
   ]
  }
 ],
 "metadata": {
  "kernelspec": {
   "display_name": "Python [conda env:geofabrics49]",
   "language": "python",
   "name": "conda-env-geofabrics49-py"
  },
  "language_info": {
   "codemirror_mode": {
    "name": "ipython",
    "version": 3
   },
   "file_extension": ".py",
   "mimetype": "text/x-python",
   "name": "python",
   "nbconvert_exporter": "python",
   "pygments_lexer": "ipython3",
   "version": "3.9.13"
  }
 },
 "nbformat": 4,
 "nbformat_minor": 5
}
