{
 "cells": [
  {
   "cell_type": "markdown",
   "id": "145254d1",
   "metadata": {},
   "source": [
    "#### 1. Preparation"
   ]
  },
  {
   "cell_type": "code",
   "execution_count": 1,
   "id": "99ab1608",
   "metadata": {},
   "outputs": [],
   "source": [
    "# Packages\n",
    "import netCDF4\n",
    "import numpy as np\n",
    "import xarray as xr"
   ]
  },
  {
   "cell_type": "code",
   "execution_count": 2,
   "id": "06e933a8",
   "metadata": {},
   "outputs": [],
   "source": [
    "# Get new path\n",
    "# Create a path to the folder\n",
    "# that contains file \"VCSN_waikanae_200501_disaggdaily_500m_nztm_masked_sec.nc\"\n",
    "# and file \"rainfall_interpolation_nearest.nc\"\n",
    "main_dir = r\"S:\\Grid_Ori_bigdata_005\""
   ]
  },
  {
   "cell_type": "markdown",
   "id": "51d5f66a",
   "metadata": {},
   "source": [
    "#### 2. Prepare files"
   ]
  },
  {
   "cell_type": "code",
   "execution_count": 3,
   "id": "fc65782d",
   "metadata": {},
   "outputs": [],
   "source": [
    "# Open infile\n",
    "rainfall_nearest = xr.open_dataset(fr\"{main_dir}\\rainfall_interpolation_nearest.nc\")"
   ]
  },
  {
   "cell_type": "code",
   "execution_count": 4,
   "id": "b8d7eccb",
   "metadata": {},
   "outputs": [],
   "source": [
    "# Open outfile\n",
    "outfile_rainfall = netCDF4.Dataset(fr\"{main_dir}\\dynamicrain_nearest.nc\", 'w')"
   ]
  },
  {
   "cell_type": "markdown",
   "id": "13a1cb7e",
   "metadata": {},
   "source": [
    "#### 3. Prepare variables"
   ]
  },
  {
   "cell_type": "code",
   "execution_count": 5,
   "id": "78b306be",
   "metadata": {},
   "outputs": [],
   "source": [
    "# Extract rainfall dimensions from January 5th to January 6th\n",
    "xsz = rainfall_nearest.x.values.shape[0]\n",
    "ysz = rainfall_nearest.y.values.shape[0]\n",
    "time_levels = 49"
   ]
  },
  {
   "cell_type": "code",
   "execution_count": 6,
   "id": "ae2c90e9",
   "metadata": {},
   "outputs": [],
   "source": [
    "# Create dimensions for outfile\n",
    "outfile_rainfall.createDimension(dimname='time', size=time_levels)\n",
    "xdim = outfile_rainfall.createDimension('x', xsz)\n",
    "ydim = outfile_rainfall.createDimension('y', ysz)"
   ]
  },
  {
   "cell_type": "code",
   "execution_count": 7,
   "id": "3f058325",
   "metadata": {},
   "outputs": [],
   "source": [
    "# Create variables for dimensions to add values (this is for outfile)\n",
    "times = outfile_rainfall.createVariable('time', datatype='float32', dimensions=('time'))\n",
    "xs = outfile_rainfall.createVariable('x', datatype='float64', dimensions=('x'))\n",
    "ys = outfile_rainfall.createVariable('y', datatype='float64', dimensions=('y'))"
   ]
  },
  {
   "cell_type": "code",
   "execution_count": 8,
   "id": "72b87dcf",
   "metadata": {},
   "outputs": [],
   "source": [
    "# Create outfile with arranged variables of dimensions\n",
    "rainfall = outfile_rainfall.createVariable('rainfall_depth', dimensions=('time', 'y', 'x'), datatype='float32')"
   ]
  },
  {
   "cell_type": "code",
   "execution_count": 9,
   "id": "5c0734bf",
   "metadata": {},
   "outputs": [],
   "source": [
    "# Prepare other variables\n",
    "times.units = \"hour\"\n",
    "xs.units = \"m\"\n",
    "ys.units = \"m\"\n",
    "rainfall.units = \"mm\"\n",
    "times.axis = \"T\"\n",
    "xs.axis = \"X\"\n",
    "ys.axis = \"Y\""
   ]
  },
  {
   "cell_type": "markdown",
   "id": "7347c018",
   "metadata": {},
   "source": [
    "#### 4. Write out"
   ]
  },
  {
   "cell_type": "code",
   "execution_count": 10,
   "id": "fab79ca4",
   "metadata": {},
   "outputs": [],
   "source": [
    "# Write out values for dimensions\n",
    "times[:] = np.arange(0, 49, 1)\n",
    "xs[:] = rainfall_nearest.x.values\n",
    "ys[:] = rainfall_nearest.y.values"
   ]
  },
  {
   "cell_type": "code",
   "execution_count": 11,
   "id": "59aaab97",
   "metadata": {},
   "outputs": [],
   "source": [
    "# Write out rainfall values\n",
    "rainfall[:] = rainfall_nearest.rainfall_depth.values[25:74]"
   ]
  },
  {
   "cell_type": "code",
   "execution_count": 12,
   "id": "189e525c",
   "metadata": {},
   "outputs": [],
   "source": [
    "# Close outfiles\n",
    "outfile_rainfall.close()"
   ]
  },
  {
   "cell_type": "code",
   "execution_count": null,
   "id": "90f9deb4",
   "metadata": {},
   "outputs": [],
   "source": []
  }
 ],
 "metadata": {
  "kernelspec": {
   "display_name": "Python [conda env:geofabrics_001] *",
   "language": "python",
   "name": "conda-env-geofabrics_001-py"
  },
  "language_info": {
   "codemirror_mode": {
    "name": "ipython",
    "version": 3
   },
   "file_extension": ".py",
   "mimetype": "text/x-python",
   "name": "python",
   "nbconvert_exporter": "python",
   "pygments_lexer": "ipython3",
   "version": "3.9.13"
  }
 },
 "nbformat": 4,
 "nbformat_minor": 5
}
