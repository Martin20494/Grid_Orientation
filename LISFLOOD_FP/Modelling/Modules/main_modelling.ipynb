{
 "cells": [
  {
   "cell_type": "markdown",
   "id": "8e172755",
   "metadata": {},
   "source": [
    "## Change directory to modules folder"
   ]
  },
  {
   "cell_type": "code",
   "execution_count": 1,
   "id": "91226bfc",
   "metadata": {},
   "outputs": [],
   "source": [
    "# Reference: https://stackoverflow.com/questions/15514593/importerror-no-module-named-when-trying-to-run-python-script/15622021#15622021\n",
    "import sys\n",
    "sys.path.append(r'G:\\Grid_Orientation\\LISFLOOD_FP\\Modelling\\Modules')"
   ]
  },
  {
   "cell_type": "markdown",
   "id": "44415f25",
   "metadata": {},
   "source": [
    "## Code running"
   ]
  },
  {
   "cell_type": "markdown",
   "id": "424d1227",
   "metadata": {},
   "source": [
    "### 1. Packages"
   ]
  },
  {
   "cell_type": "code",
   "execution_count": 2,
   "id": "fb044547",
   "metadata": {},
   "outputs": [],
   "source": [
    "from randomisation import random_transformation     # For collecting transformation values\n",
    "from lidar import download_lidar                    # For downloading LiDAR data\n",
    "from transformation import get_url                  # For getting url file for transformation command\n",
    "from demReference import padding_combination, \\\n",
    "                         dem_raster_reference       # For padding calculation and dem reference generation\n",
    "from transformation import center_calculation       # For center calculation\n",
    "from execution import *                             # For executing transformed and un-transformed functions"
   ]
  },
  {
   "cell_type": "markdown",
   "id": "48aa7b33",
   "metadata": {},
   "source": [
    "### 2. Necessary variables"
   ]
  },
  {
   "cell_type": "code",
   "execution_count": 3,
   "id": "68ea8ece",
   "metadata": {},
   "outputs": [],
   "source": [
    "# LiDAR number file\n",
    "num_lidar_file = 0\n",
    "\n",
    "# Transformation selection\n",
    "transform_selection = \"c\"\n",
    "\n",
    "# LiDAR dataset name\n",
    "lidar_name = \"Wellington_2013\"\n",
    "\n",
    "# Chunks and processors information\n",
    "size_of_chunk = 100\n",
    "size_of_processor = 6\n",
    "\n",
    "# Discharge file\n",
    "discharge_filepath = r\"S:\\\\LISFLOOD\\\\rivers\\\\river_100y.txt\"\n",
    "\n",
    "# Time file\n",
    "time_filepath = r\"S:\\\\LISFLOOD\\\\times\\\\time_real.txt\"\n",
    "\n",
    "# Extracting flowdepth rate (for flowdepth_extraction() function)\n",
    "flowdepth_rate = 0\n",
    "\n",
    "# Time to extract flowdepth (for flowdepth_extraction() function)\n",
    "time_extract = 48"
   ]
  },
  {
   "cell_type": "code",
   "execution_count": 4,
   "id": "25ae7e6e",
   "metadata": {},
   "outputs": [],
   "source": [
    "# Construct a list of boundary -------------------------------------------------------------------------------------------------\n",
    "resolution = 10\n",
    "number_pixel_x = 16 * 20  # multiple of 16\n",
    "number_pixel_y = 16 * 10  # multiple of 16\n",
    "\n",
    "xmin = 1769850\n",
    "ymin = 5471830\n",
    "# ------------------------------------------------------------------------------------------------------------------------------\n",
    "\n",
    "# Construct a list of boundary -------------------------------------------------------------------------------------------------\n",
    "# resolution = 10\n",
    "# number_pixel_x = 16*38                                   # multiple of 16\n",
    "# number_pixel_y = 16*16                                   # multiple of 16\n",
    "\n",
    "# xmin = 1767665\n",
    "# ymin = 5471670\n",
    "# ------------------------------------------------------------------------------------------------------------------------------\n",
    "\n",
    "xmax = xmin + resolution * number_pixel_x\n",
    "ymax = ymin + resolution * number_pixel_y\n",
    "\n",
    "# Boundary for the area of interest\n",
    "boundary_1 = [xmin, ymin, xmax, ymax]\n",
    "\n",
    "# Padding boundary for DEMs (use this boundary to create padding)\n",
    "addition_2 = 16 * 3\n",
    "boundary_2 = padding_combination(boundary_1, addition_2)\n",
    "\n",
    "# Boundary for tiles (use this boundary to download LiDAR)\n",
    "addition_3 = 16 * 3\n",
    "boundary_3 = padding_combination(boundary_2, addition_3)"
   ]
  },
  {
   "cell_type": "code",
   "execution_count": 5,
   "id": "dca40674",
   "metadata": {},
   "outputs": [],
   "source": [
    "# # %%time\n",
    "# # Download LiDAR\n",
    "# download_lidar(boundary_3, lidar_name, num_lidar_file)\n",
    "\n",
    "# # Reference DEM without padding\n",
    "# dem_raster_reference(transform_selection,\n",
    "#                      resolution, size_of_chunk, size_of_processor,\n",
    "#                      f\"lidar_{num_lidar_file}\", boundary_1, lidar_name, False)\n",
    "\n",
    "# # Reference DEM with padding\n",
    "# dem_raster_reference(transform_selection,\n",
    "#                      resolution, size_of_chunk, size_of_processor,\n",
    "#                      f\"lidar_{num_lidar_file}\", boundary_2, lidar_name)\n",
    "\n",
    "# Calculate coordinates of center point\n",
    "center_point = center_calculation(transform_selection, True)\n",
    "center_x = center_point[0]                     # Extract x coordinate of center point\n",
    "center_y = center_point[1]                     # Extract y coordinate of center point\n",
    "\n",
    "# Transformation values\n",
    "ran_trans = random_transformation(\n",
    "    1,\n",
    "    50,\n",
    "    [0, 90],\n",
    "    [0, resolution/2],\n",
    "    [0, resolution/2],\n",
    "    'uniform',\n",
    "    True\n",
    ")\n",
    "\n",
    "# Get url list file\n",
    "url_list_file = get_url(num_lidar_file, lidar_name)"
   ]
  },
  {
   "cell_type": "code",
   "execution_count": 6,
   "id": "1e357ff3",
   "metadata": {},
   "outputs": [],
   "source": [
    "# import numpy as np\n",
    "# np.save(r\"S:\\LISFLOOD\\version_6\\7_results\\un_combination\\uncom_csv\\ran_trans6.npy\", ran_trans)"
   ]
  },
  {
   "cell_type": "markdown",
   "id": "2c1f3c5a",
   "metadata": {},
   "source": [
    "### 3. Code running"
   ]
  },
  {
   "cell_type": "code",
   "execution_count": 7,
   "id": "3a6939f0",
   "metadata": {},
   "outputs": [],
   "source": [
    "# # Transform tiles\n",
    "# run_simulation(ran_trans,\n",
    "#                transform_selection, num_lidar_file,\n",
    "#                center_x, center_y,\n",
    "#                url_list_file, lidar_name)"
   ]
  },
  {
   "cell_type": "code",
   "execution_count": 8,
   "id": "f12cc665",
   "metadata": {},
   "outputs": [],
   "source": [
    "# # DEM generation\n",
    "# run_dem(ran_trans, transform_selection,\n",
    "#         resolution, size_of_chunk, size_of_processor,\n",
    "#         boundary_2, lidar_name)"
   ]
  },
  {
   "cell_type": "code",
   "execution_count": 9,
   "id": "a29182f6",
   "metadata": {},
   "outputs": [],
   "source": [
    "# # Values change\n",
    "# run_changing_value(ran_trans, transform_selection, resolution, center_x, center_y)"
   ]
  },
  {
   "cell_type": "code",
   "execution_count": null,
   "id": "463a5739",
   "metadata": {},
   "outputs": [
    {
     "name": "stdout",
     "output_type": "stream",
     "text": [
      "------------------------------ angle: 46.0639462230231 and x: 4.752318481629676 and y: 0.7207980635981687 ------------------------------\n"
     ]
    }
   ],
   "source": [
    "# Flood model\n",
    "run_flood_model(ran_trans, transform_selection, \n",
    "                discharge_filepath, time_filepath, resolution, \n",
    "                center_x, center_y)"
   ]
  },
  {
   "cell_type": "code",
   "execution_count": null,
   "id": "c5d05705",
   "metadata": {},
   "outputs": [],
   "source": [
    "# Flowdepth extraction\n",
    "run_flowdepth_extraction(ran_trans, transform_selection, time_extract)"
   ]
  },
  {
   "cell_type": "code",
   "execution_count": null,
   "id": "5f298120",
   "metadata": {},
   "outputs": [],
   "source": [
    "# Untransformation\n",
    "run_untransformation(ran_trans, transform_selection, time_extract)"
   ]
  },
  {
   "cell_type": "code",
   "execution_count": null,
   "id": "460df081",
   "metadata": {},
   "outputs": [],
   "source": []
  }
 ],
 "metadata": {
  "kernelspec": {
   "display_name": "Python [conda env:geofabrics40]",
   "language": "python",
   "name": "conda-env-geofabrics40-py"
  },
  "language_info": {
   "codemirror_mode": {
    "name": "ipython",
    "version": 3
   },
   "file_extension": ".py",
   "mimetype": "text/x-python",
   "name": "python",
   "nbconvert_exporter": "python",
   "pygments_lexer": "ipython3",
   "version": "3.9.7"
  }
 },
 "nbformat": 4,
 "nbformat_minor": 5
}
